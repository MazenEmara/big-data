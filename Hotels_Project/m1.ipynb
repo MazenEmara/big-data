{
 "cells": [
  {
   "cell_type": "code",
   "execution_count": null,
   "metadata": {},
   "outputs": [],
   "source": [
    "# Installing required packages\n",
    "!pip3 install pyspark\n",
    "!pip3 install findspark\n",
    "!pip3 install pandas\n",
    "!pip3 install matplotlib\n",
    "!pip3 install seaborn"
   ]
  },
  {
   "cell_type": "code",
   "execution_count": 1,
   "metadata": {},
   "outputs": [],
   "source": [
    "import findspark\n",
    "import pandas as pd\n",
    "from pyspark import SparkContext, SparkConf\n",
    "from pyspark.sql import SparkSession\n",
    "from pyspark.sql.functions import col, expr,when\n",
    "from pyspark.sql.functions import countDistinct\n",
    "from pyspark.ml.feature import StringIndexer\n",
    "from pyspark.sql.types import IntegerType\n",
    "import matplotlib.pyplot as plt\n",
    "import seaborn as sns\n",
    "import numpy as np\n",
    "\n",
    "findspark.init()"
   ]
  },
  {
   "cell_type": "code",
   "execution_count": 2,
   "metadata": {},
   "outputs": [
    {
     "name": "stderr",
     "output_type": "stream",
     "text": [
      "23/06/09 01:33:54 WARN Utils: Your hostname, Mazens-MacBook-Pro.local resolves to a loopback address: 127.0.0.1; using 192.168.1.18 instead (on interface en0)\n",
      "23/06/09 01:33:54 WARN Utils: Set SPARK_LOCAL_IP if you need to bind to another address\n",
      "Setting default log level to \"WARN\".\n",
      "To adjust logging level use sc.setLogLevel(newLevel). For SparkR, use setLogLevel(newLevel).\n",
      "23/06/09 01:33:55 WARN NativeCodeLoader: Unable to load native-hadoop library for your platform... using builtin-java classes where applicable\n"
     ]
    }
   ],
   "source": [
    "sc = SparkContext()\n",
    "\n",
    "# Creating a spark session\n",
    "spark = SparkSession \\\n",
    "    .builder \\\n",
    "    .appName(\"Python Spark DataFrames basic example\") \\\n",
    "    .config(\"spark.some.config.option\", \"some-value\") \\\n",
    "    .getOrCreate()"
   ]
  },
  {
   "cell_type": "code",
   "execution_count": 3,
   "metadata": {},
   "outputs": [
    {
     "name": "stdout",
     "output_type": "stream",
     "text": [
      "root\n",
      " |-- Unnamed: 0: long (nullable = true)\n",
      " |-- hotel: string (nullable = true)\n",
      " |-- is_canceled: long (nullable = true)\n",
      " |-- lead_time: long (nullable = true)\n",
      " |-- arrival_date_year: long (nullable = true)\n",
      " |-- arrival_date_month: string (nullable = true)\n",
      " |-- arrival_date_week_number: long (nullable = true)\n",
      " |-- arrival_date_day_of_month: long (nullable = true)\n",
      " |-- stays_in_weekend_nights: long (nullable = true)\n",
      " |-- stays_in_week_nights: long (nullable = true)\n",
      " |-- adults: long (nullable = true)\n",
      " |-- children: double (nullable = true)\n",
      " |-- babies: long (nullable = true)\n",
      " |-- meal: string (nullable = true)\n",
      " |-- country: string (nullable = true)\n",
      " |-- distribution_channel: string (nullable = true)\n",
      " |-- is_repeated_guest: long (nullable = true)\n",
      " |-- previous_cancellations: long (nullable = true)\n",
      " |-- previous_bookings_not_canceled: long (nullable = true)\n",
      " |-- reserved_room_type: string (nullable = true)\n",
      " |-- assigned_room_type: string (nullable = true)\n",
      " |-- booking_changes: long (nullable = true)\n",
      " |-- deposit_type: string (nullable = true)\n",
      " |-- agent: double (nullable = true)\n",
      " |-- company: double (nullable = true)\n",
      " |-- days_in_waiting_list: long (nullable = true)\n",
      " |-- customer_type: string (nullable = true)\n",
      " |-- adr: double (nullable = true)\n",
      " |-- required_car_parking_spaces: long (nullable = true)\n",
      " |-- total_of_special_requests: long (nullable = true)\n",
      "\n",
      "30\n"
     ]
    },
    {
     "name": "stderr",
     "output_type": "stream",
     "text": [
      "23/06/09 01:34:25 WARN package: Truncated the string representation of a plan since it was too large. This behavior can be adjusted by setting 'spark.sql.debug.maxToStringFields'.\n",
      "23/06/09 01:34:26 WARN TaskSetManager: Stage 0 contains a task of very large size (1337 KiB). The maximum recommended task size is 1000 KiB.\n",
      "[Stage 0:>                                                          (0 + 8) / 8]\r"
     ]
    },
    {
     "name": "stdout",
     "output_type": "stream",
     "text": [
      "119390\n"
     ]
    },
    {
     "name": "stderr",
     "output_type": "stream",
     "text": [
      "                                                                                \r"
     ]
    }
   ],
   "source": [
    "egphotelbookings = pd.read_csv('dataset.csv')\n",
    "sdf = spark.createDataFrame(egphotelbookings) \n",
    "sdf.printSchema()\n",
    "#sdf.show(10)\n",
    "#print('Rows',sdf.count()) \n",
    "\n",
    "print(len(sdf.columns))\n",
    "print(sdf.count())"
   ]
  },
  {
   "cell_type": "code",
   "execution_count": 4,
   "metadata": {},
   "outputs": [
    {
     "name": "stderr",
     "output_type": "stream",
     "text": [
      "23/06/09 01:34:36 WARN TaskSetManager: Stage 3 contains a task of very large size (1337 KiB). The maximum recommended task size is 1000 KiB.\n",
      "23/06/09 01:34:38 WARN TaskSetManager: Stage 9 contains a task of very large size (1337 KiB). The maximum recommended task size is 1000 KiB.\n",
      "23/06/09 01:34:39 WARN TaskSetManager: Stage 12 contains a task of very large size (1337 KiB). The maximum recommended task size is 1000 KiB.\n",
      "23/06/09 01:34:39 WARN TaskSetManager: Stage 15 contains a task of very large size (1337 KiB). The maximum recommended task size is 1000 KiB.\n",
      "23/06/09 01:34:39 WARN TaskSetManager: Stage 18 contains a task of very large size (1337 KiB). The maximum recommended task size is 1000 KiB.\n",
      "23/06/09 01:34:40 WARN TaskSetManager: Stage 21 contains a task of very large size (1337 KiB). The maximum recommended task size is 1000 KiB.\n",
      "23/06/09 01:34:40 WARN TaskSetManager: Stage 24 contains a task of very large size (1337 KiB). The maximum recommended task size is 1000 KiB.\n",
      "23/06/09 01:34:40 WARN TaskSetManager: Stage 27 contains a task of very large size (1337 KiB). The maximum recommended task size is 1000 KiB.\n",
      "23/06/09 01:34:41 WARN TaskSetManager: Stage 30 contains a task of very large size (1337 KiB). The maximum recommended task size is 1000 KiB.\n",
      "23/06/09 01:34:41 WARN TaskSetManager: Stage 33 contains a task of very large size (1337 KiB). The maximum recommended task size is 1000 KiB.\n",
      "23/06/09 01:34:41 WARN TaskSetManager: Stage 36 contains a task of very large size (1337 KiB). The maximum recommended task size is 1000 KiB.\n",
      "23/06/09 01:34:42 WARN TaskSetManager: Stage 39 contains a task of very large size (1337 KiB). The maximum recommended task size is 1000 KiB.\n",
      "23/06/09 01:34:42 WARN TaskSetManager: Stage 42 contains a task of very large size (1337 KiB). The maximum recommended task size is 1000 KiB.\n",
      "23/06/09 01:34:42 WARN TaskSetManager: Stage 45 contains a task of very large size (1337 KiB). The maximum recommended task size is 1000 KiB.\n",
      "23/06/09 01:34:43 WARN TaskSetManager: Stage 48 contains a task of very large size (1337 KiB). The maximum recommended task size is 1000 KiB.\n",
      "23/06/09 01:34:43 WARN TaskSetManager: Stage 51 contains a task of very large size (1337 KiB). The maximum recommended task size is 1000 KiB.\n",
      "23/06/09 01:34:43 WARN TaskSetManager: Stage 54 contains a task of very large size (1337 KiB). The maximum recommended task size is 1000 KiB.\n",
      "23/06/09 01:34:43 WARN TaskSetManager: Stage 57 contains a task of very large size (1337 KiB). The maximum recommended task size is 1000 KiB.\n",
      "23/06/09 01:34:44 WARN TaskSetManager: Stage 60 contains a task of very large size (1337 KiB). The maximum recommended task size is 1000 KiB.\n",
      "23/06/09 01:34:44 WARN TaskSetManager: Stage 63 contains a task of very large size (1337 KiB). The maximum recommended task size is 1000 KiB.\n",
      "23/06/09 01:34:44 WARN TaskSetManager: Stage 66 contains a task of very large size (1337 KiB). The maximum recommended task size is 1000 KiB.\n",
      "23/06/09 01:34:45 WARN TaskSetManager: Stage 69 contains a task of very large size (1337 KiB). The maximum recommended task size is 1000 KiB.\n",
      "23/06/09 01:34:45 WARN TaskSetManager: Stage 72 contains a task of very large size (1337 KiB). The maximum recommended task size is 1000 KiB.\n",
      "23/06/09 01:34:45 WARN TaskSetManager: Stage 75 contains a task of very large size (1337 KiB). The maximum recommended task size is 1000 KiB.\n",
      "23/06/09 01:34:46 WARN TaskSetManager: Stage 78 contains a task of very large size (1337 KiB). The maximum recommended task size is 1000 KiB.\n",
      "23/06/09 01:34:46 WARN TaskSetManager: Stage 81 contains a task of very large size (1337 KiB). The maximum recommended task size is 1000 KiB.\n",
      "23/06/09 01:34:46 WARN TaskSetManager: Stage 84 contains a task of very large size (1337 KiB). The maximum recommended task size is 1000 KiB.\n",
      "23/06/09 01:34:46 WARN TaskSetManager: Stage 87 contains a task of very large size (1337 KiB). The maximum recommended task size is 1000 KiB.\n",
      "23/06/09 01:34:47 WARN TaskSetManager: Stage 90 contains a task of very large size (1337 KiB). The maximum recommended task size is 1000 KiB.\n",
      "23/06/09 01:34:47 WARN TaskSetManager: Stage 93 contains a task of very large size (1337 KiB). The maximum recommended task size is 1000 KiB.\n",
      "23/06/09 01:34:47 WARN TaskSetManager: Stage 96 contains a task of very large size (1337 KiB). The maximum recommended task size is 1000 KiB.\n",
      "23/06/09 01:34:48 WARN TaskSetManager: Stage 99 contains a task of very large size (1337 KiB). The maximum recommended task size is 1000 KiB.\n",
      "23/06/09 01:34:50 WARN TaskSetManager: Stage 105 contains a task of very large size (1337 KiB). The maximum recommended task size is 1000 KiB.\n",
      "23/06/09 01:34:51 WARN TaskSetManager: Stage 111 contains a task of very large size (1337 KiB). The maximum recommended task size is 1000 KiB.\n",
      "23/06/09 01:34:52 WARN TaskSetManager: Stage 117 contains a task of very large size (1337 KiB). The maximum recommended task size is 1000 KiB.\n",
      "23/06/09 01:34:52 WARN TaskSetManager: Stage 123 contains a task of very large size (1337 KiB). The maximum recommended task size is 1000 KiB.\n",
      "23/06/09 01:34:53 WARN TaskSetManager: Stage 129 contains a task of very large size (1337 KiB). The maximum recommended task size is 1000 KiB.\n",
      "23/06/09 01:34:53 WARN TaskSetManager: Stage 135 contains a task of very large size (1337 KiB). The maximum recommended task size is 1000 KiB.\n",
      "23/06/09 01:34:54 WARN TaskSetManager: Stage 141 contains a task of very large size (1337 KiB). The maximum recommended task size is 1000 KiB.\n",
      "23/06/09 01:34:54 WARN TaskSetManager: Stage 147 contains a task of very large size (1337 KiB). The maximum recommended task size is 1000 KiB.\n",
      "23/06/09 01:34:54 WARN TaskSetManager: Stage 153 contains a task of very large size (1337 KiB). The maximum recommended task size is 1000 KiB.\n",
      "23/06/09 01:34:55 WARN TaskSetManager: Stage 159 contains a task of very large size (1337 KiB). The maximum recommended task size is 1000 KiB.\n",
      "23/06/09 01:34:55 WARN TaskSetManager: Stage 165 contains a task of very large size (1337 KiB). The maximum recommended task size is 1000 KiB.\n",
      "23/06/09 01:34:56 WARN TaskSetManager: Stage 171 contains a task of very large size (1337 KiB). The maximum recommended task size is 1000 KiB.\n",
      "23/06/09 01:34:56 WARN TaskSetManager: Stage 177 contains a task of very large size (1337 KiB). The maximum recommended task size is 1000 KiB.\n",
      "23/06/09 01:34:57 WARN TaskSetManager: Stage 183 contains a task of very large size (1337 KiB). The maximum recommended task size is 1000 KiB.\n",
      "23/06/09 01:34:57 WARN TaskSetManager: Stage 189 contains a task of very large size (1337 KiB). The maximum recommended task size is 1000 KiB.\n",
      "23/06/09 01:34:58 WARN TaskSetManager: Stage 195 contains a task of very large size (1337 KiB). The maximum recommended task size is 1000 KiB.\n",
      "23/06/09 01:34:58 WARN TaskSetManager: Stage 201 contains a task of very large size (1337 KiB). The maximum recommended task size is 1000 KiB.\n",
      "23/06/09 01:34:59 WARN TaskSetManager: Stage 207 contains a task of very large size (1337 KiB). The maximum recommended task size is 1000 KiB.\n",
      "23/06/09 01:34:59 WARN TaskSetManager: Stage 213 contains a task of very large size (1337 KiB). The maximum recommended task size is 1000 KiB.\n",
      "23/06/09 01:34:59 WARN TaskSetManager: Stage 219 contains a task of very large size (1337 KiB). The maximum recommended task size is 1000 KiB.\n",
      "23/06/09 01:35:00 WARN TaskSetManager: Stage 225 contains a task of very large size (1337 KiB). The maximum recommended task size is 1000 KiB.\n",
      "23/06/09 01:35:00 WARN TaskSetManager: Stage 231 contains a task of very large size (1337 KiB). The maximum recommended task size is 1000 KiB.\n",
      "23/06/09 01:35:01 WARN TaskSetManager: Stage 237 contains a task of very large size (1337 KiB). The maximum recommended task size is 1000 KiB.\n",
      "23/06/09 01:35:01 WARN TaskSetManager: Stage 243 contains a task of very large size (1337 KiB). The maximum recommended task size is 1000 KiB.\n",
      "23/06/09 01:35:02 WARN TaskSetManager: Stage 249 contains a task of very large size (1337 KiB). The maximum recommended task size is 1000 KiB.\n",
      "23/06/09 01:35:02 WARN TaskSetManager: Stage 255 contains a task of very large size (1337 KiB). The maximum recommended task size is 1000 KiB.\n",
      "23/06/09 01:35:03 WARN TaskSetManager: Stage 261 contains a task of very large size (1337 KiB). The maximum recommended task size is 1000 KiB.\n",
      "23/06/09 01:35:03 WARN TaskSetManager: Stage 267 contains a task of very large size (1337 KiB). The maximum recommended task size is 1000 KiB.\n",
      "23/06/09 01:35:04 WARN TaskSetManager: Stage 273 contains a task of very large size (1337 KiB). The maximum recommended task size is 1000 KiB.\n",
      "23/06/09 01:35:04 WARN TaskSetManager: Stage 279 contains a task of very large size (1337 KiB). The maximum recommended task size is 1000 KiB.\n",
      "23/06/09 01:35:05 WARN TaskSetManager: Stage 285 contains a task of very large size (1337 KiB). The maximum recommended task size is 1000 KiB.\n",
      "23/06/09 01:35:05 WARN TaskSetManager: Stage 291 contains a task of very large size (1337 KiB). The maximum recommended task size is 1000 KiB.\n",
      "23/06/09 01:35:05 WARN TaskSetManager: Stage 297 contains a task of very large size (1337 KiB). The maximum recommended task size is 1000 KiB.\n"
     ]
    },
    {
     "name": "stdout",
     "output_type": "stream",
     "text": [
      "33\n"
     ]
    },
    {
     "name": "stderr",
     "output_type": "stream",
     "text": [
      "23/06/09 01:35:07 WARN TaskSetManager: Stage 307 contains a task of very large size (1337 KiB). The maximum recommended task size is 1000 KiB.\n"
     ]
    },
    {
     "name": "stdout",
     "output_type": "stream",
     "text": [
      "118565\n"
     ]
    }
   ],
   "source": [
    "sdf = sdf.dropDuplicates()\n",
    "\n",
    "#here i am droping any column with more than 50 % pf null\n",
    "threshold = sdf.count() * 0.5\n",
    "sdf = sdf.drop(*[column for column in sdf.columns if sdf.where(col(column).isNull()).count() > threshold])\n",
    "\n",
    "#here i am droping rows with more than 10 missing values\n",
    "sdf = sdf.dropna(thresh=10)\n",
    "\n",
    "#making new column with total nbr of guests\n",
    "sdf = sdf.withColumn(\"total_guests\", col(\"adults\").cast(IntegerType()) + col(\"children\").cast(IntegerType()) + col(\"babies\").cast(IntegerType()))\n",
    "\n",
    "sdf = sdf.withColumn(\"total_stays\", col(\"stays_in_weekend_nights\") + col(\"stays_in_week_nights\"))\n",
    "\n",
    "#droping rows xith guests = 0 or days stayd = 0\n",
    "sdf = sdf.filter(col(\"total_stays\") != 0)\n",
    "sdf = sdf.filter(col(\"total_guests\") != 0)\n",
    "\n",
    "#making new column booking_canceled as a boolean to easily now if a booking got cancelled\n",
    "#to be used in the ML models\n",
    "#sdf = sdf.withColumn\n",
    "\n",
    "\n",
    "# converting the categorical arrival_date_month to numerical\n",
    "string_indexer = StringIndexer(inputCol='arrival_date_month', outputCol='month_nubr')\n",
    "model = string_indexer.fit(sdf)\n",
    "sdf = model.transform(sdf)\n",
    "\n",
    "\n",
    "# drop the columns with only one unique value\n",
    "for column in sdf.columns:\n",
    "    unique_count = sdf.select(countDistinct(column)).collect()[0][0]\n",
    "    if unique_count == 1:\n",
    "        print(column)\n",
    "        sdf = sdf.drop(column)\n",
    "\n",
    "\n",
    "print(len(sdf.columns))\n",
    "print(sdf.count())"
   ]
  },
  {
   "cell_type": "code",
   "execution_count": 5,
   "metadata": {},
   "outputs": [],
   "source": [
    "sdf.createTempView(\"Hotels\")"
   ]
  },
  {
   "attachments": {},
   "cell_type": "markdown",
   "metadata": {},
   "source": [
    "***-Promotions for Renaissance Hotel***"
   ]
  },
  {
   "attachments": {},
   "cell_type": "markdown",
   "metadata": {},
   "source": [
    "based on the following three code cells We suggest:\n",
    "\n",
    "1- a policy for the hotel that if the customer is staying more than 5 days he needs to pay a deposit  because aproximately 40-50% of those who stays more than 5 days cancels there booking\n",
    "\n",
    "2- Since the number of repeated guests is low we suggest that the hotel gives the customers percentage (10%) discount for their next booking to encourage them to book in the hotel again  \n",
    "\n",
    "3- As we observe below, The main distribution channel is TA/TO for this hotel so we suggest giving a percentage of the profit to the TA/TO to encourage them to keep using this hotel in the future "
   ]
  },
  {
   "cell_type": "code",
   "execution_count": 6,
   "metadata": {},
   "outputs": [
    {
     "name": "stderr",
     "output_type": "stream",
     "text": [
      "23/06/09 01:35:08 WARN TaskSetManager: Stage 313 contains a task of very large size (1337 KiB). The maximum recommended task size is 1000 KiB.\n"
     ]
    },
    {
     "name": "stdout",
     "output_type": "stream",
     "text": [
      "Number of customers staying more than five days and doesn't pay a deposit then canceled their booking: 3573\n"
     ]
    },
    {
     "name": "stderr",
     "output_type": "stream",
     "text": [
      "23/06/09 01:35:09 WARN TaskSetManager: Stage 319 contains a task of very large size (1337 KiB). The maximum recommended task size is 1000 KiB.\n"
     ]
    },
    {
     "name": "stdout",
     "output_type": "stream",
     "text": [
      "Number of customers staying more than five days and doesn't pay a deposit but didn't cancel the booking: 8423\n"
     ]
    }
   ],
   "source": [
    "rows = spark.sql(\"SELECT * FROM Hotels WHERE hotel = 'Renaissance Hotel' AND total_stays > 5 AND deposit_type = 'No Deposit' AND is_canceled = 1\")\n",
    "rows2 = spark.sql(\"SELECT * FROM Hotels WHERE hotel = 'Renaissance Hotel' AND total_stays > 5 AND deposit_type = 'No Deposit' AND is_canceled = 0\")\n",
    "\n",
    "print(\"Number of customers staying more than five days and doesn't pay a deposit then canceled their booking:\",rows.count())\n",
    "print(\"Number of customers staying more than five days and doesn't pay a deposit but didn't cancel the booking:\",rows2.count())\n",
    "#We suggest a policy for the hotel that if the customer is staying more than 5 days he needs to pay a deposit \n",
    "#because aproximately 40-50% of those who stays more than 5 days cancels there booking\n"
   ]
  },
  {
   "cell_type": "code",
   "execution_count": 7,
   "metadata": {},
   "outputs": [
    {
     "name": "stderr",
     "output_type": "stream",
     "text": [
      "23/06/09 01:35:09 WARN TaskSetManager: Stage 325 contains a task of very large size (1337 KiB). The maximum recommended task size is 1000 KiB.\n",
      "23/06/09 01:35:10 WARN TaskSetManager: Stage 331 contains a task of very large size (1337 KiB). The maximum recommended task size is 1000 KiB.\n"
     ]
    },
    {
     "name": "stdout",
     "output_type": "stream",
     "text": [
      "number of non-repeated guests: 37999\n",
      "number of repeated guests: 1667\n"
     ]
    }
   ],
   "source": [
    "rows = spark.sql(\"SELECT * FROM Hotels WHERE hotel = 'Renaissance Hotel' AND is_repeated_guest = 0\")\n",
    "rows2 = spark.sql(\"SELECT * FROM Hotels WHERE hotel = 'Renaissance Hotel' AND is_repeated_guest > 0\")\n",
    "\n",
    "print(\"number of non-repeated guests:\",rows.count())\n",
    "print(\"number of repeated guests:\",rows2.count())\n",
    "#Since the number of repeated guests is low we suggest that the hotel gives the customers percentage (10%) discount for their next booking\n",
    "#to encourage them to book in the hotel again  "
   ]
  },
  {
   "cell_type": "code",
   "execution_count": 8,
   "metadata": {},
   "outputs": [
    {
     "name": "stderr",
     "output_type": "stream",
     "text": [
      "23/06/09 01:35:11 WARN TaskSetManager: Stage 337 contains a task of very large size (1337 KiB). The maximum recommended task size is 1000 KiB.\n"
     ]
    },
    {
     "name": "stdout",
     "output_type": "stream",
     "text": [
      "+-----+--------------------+\n",
      "|count|distribution_channel|\n",
      "+-----+--------------------+\n",
      "|28673|               TA/TO|\n",
      "| 7773|              Direct|\n",
      "| 3219|           Corporate|\n",
      "|    1|           Undefined|\n",
      "+-----+--------------------+\n",
      "\n"
     ]
    }
   ],
   "source": [
    "spark.sql(\"SELECT COUNT(distribution_channel) AS count ,distribution_channel FROM Hotels WHERE hotel = 'Renaissance Hotel' GROUP BY distribution_channel ORDER BY COUNT(distribution_channel) DESC\").show()\n",
    "#As we observe below, The main distribution channel is TA/TO for this hotel so we suggest giving a percentage of the profit to\n",
    "#the TA/TO to encourage them to keep using this hotel in the future  "
   ]
  },
  {
   "attachments": {},
   "cell_type": "markdown",
   "metadata": {},
   "source": [
    "***-Promotions for JW Marriott Hotel***"
   ]
  },
  {
   "attachments": {},
   "cell_type": "markdown",
   "metadata": {},
   "source": [
    "based on the following three code cells  we suggest:\n",
    "\n",
    "1- offers in the less stayed months like January to attract more customers \n",
    "\n",
    "2-offering an upgrade meal for customers booking more than a week (So if a customer booked a week or more he gets FB which is full board course meal)\n",
    "\n",
    "3-the hotel to make a place for a baby daycare to encourage more families to book in the hotel"
   ]
  },
  {
   "cell_type": "code",
   "execution_count": 9,
   "metadata": {},
   "outputs": [
    {
     "name": "stderr",
     "output_type": "stream",
     "text": [
      "23/06/09 01:35:12 WARN TaskSetManager: Stage 343 contains a task of very large size (1337 KiB). The maximum recommended task size is 1000 KiB.\n"
     ]
    },
    {
     "name": "stdout",
     "output_type": "stream",
     "text": [
      "+-----------+---------+\n",
      "|Days_Stayed|    Month|\n",
      "+-----------+---------+\n",
      "|      28263|   August|\n",
      "|      25320|     July|\n",
      "|      23342|      May|\n",
      "|      22756|     June|\n",
      "|      22753|    April|\n",
      "|      20826|  October|\n",
      "|      20602|September|\n",
      "|      19587|    March|\n",
      "|      14774| February|\n",
      "|      13226| December|\n",
      "|      12882| November|\n",
      "|      11174|  January|\n",
      "+-----------+---------+\n",
      "\n"
     ]
    }
   ],
   "source": [
    "rows = spark.sql(\"SELECT SUM(total_stays) AS Days_Stayed ,arrival_date_month AS Month FROM Hotels WHERE hotel = 'JW Marriott Hotel' GROUP BY arrival_date_month ORDER BY SUM(total_stays) DESC\").show()\n",
    "#We suggest that the hotel makes offers in the less stayed months like January to attract more customers  "
   ]
  },
  {
   "cell_type": "code",
   "execution_count": 10,
   "metadata": {},
   "outputs": [
    {
     "name": "stderr",
     "output_type": "stream",
     "text": [
      "23/06/09 01:35:13 WARN TaskSetManager: Stage 349 contains a task of very large size (1337 KiB). The maximum recommended task size is 1000 KiB.\n"
     ]
    },
    {
     "name": "stdout",
     "output_type": "stream",
     "text": [
      "+-----------------------------------------+----+\n",
      "|Num_of_customers_staying_more_than_7_days|meal|\n",
      "+-----------------------------------------+----+\n",
      "|                                     2556|  BB|\n",
      "|                                      454|  SC|\n",
      "|                                      264|  HB|\n",
      "+-----------------------------------------+----+\n",
      "\n"
     ]
    },
    {
     "name": "stderr",
     "output_type": "stream",
     "text": [
      "23/06/09 01:35:14 WARN TaskSetManager: Stage 355 contains a task of very large size (1337 KiB). The maximum recommended task size is 1000 KiB.\n"
     ]
    },
    {
     "name": "stdout",
     "output_type": "stream",
     "text": [
      "+-----------------------------------------------------+----+\n",
      "|Num_of_customers_staying_less_than_or_equal_to_7_days|meal|\n",
      "+-----------------------------------------------------+----+\n",
      "|                                                59493|  BB|\n",
      "|                                                 9976|  SC|\n",
      "|                                                 6112|  HB|\n",
      "|                                                   44|  FB|\n",
      "+-----------------------------------------------------+----+\n",
      "\n"
     ]
    }
   ],
   "source": [
    "rows = spark.sql(\"SELECT count(*) AS Num_of_customers_staying_more_than_7_days ,meal FROM Hotels WHERE hotel = 'JW Marriott Hotel' AND total_stays >= 7 GROUP BY meal ORDER BY COUNT(meal) DESC\").show()\n",
    "rows2 = spark.sql(\"SELECT count(*) AS Num_of_customers_staying_less_than_or_equal_to_7_days ,meal FROM Hotels WHERE hotel = 'JW Marriott Hotel' AND total_stays < 7 GROUP BY meal ORDER BY COUNT(meal) DESC\").show()\n",
    "\n",
    "#We suggest offering an upgrade meal for customers booking more than a week \n",
    "#(So if a customer booked a week or more he gets FB which is full board course meal)"
   ]
  },
  {
   "cell_type": "code",
   "execution_count": 11,
   "metadata": {},
   "outputs": [
    {
     "name": "stderr",
     "output_type": "stream",
     "text": [
      "23/06/09 01:35:15 WARN TaskSetManager: Stage 361 contains a task of very large size (1337 KiB). The maximum recommended task size is 1000 KiB.\n"
     ]
    },
    {
     "name": "stdout",
     "output_type": "stream",
     "text": [
      "Number of customers having babies with them: 366\n"
     ]
    },
    {
     "name": "stderr",
     "output_type": "stream",
     "text": [
      "23/06/09 01:35:15 WARN TaskSetManager: Stage 367 contains a task of very large size (1337 KiB). The maximum recommended task size is 1000 KiB.\n"
     ]
    },
    {
     "name": "stdout",
     "output_type": "stream",
     "text": [
      "Number of customers doesn't have babies with them: 78533\n"
     ]
    }
   ],
   "source": [
    "rows = spark.sql(\"SELECT * FROM Hotels WHERE hotel = 'JW Marriott Hotel' AND babies > 0\")\n",
    "rows2 = spark.sql(\"SELECT * FROM Hotels WHERE hotel = 'JW Marriott Hotel' AND babies = 0\")\n",
    "\n",
    "print(\"Number of customers having babies with them:\",rows.count())\n",
    "print(\"Number of customers doesn't have babies with them:\",rows2.count())\n",
    "#We suggest the hotel to make a place for a baby daycare to encourage more families to book in the hotel"
   ]
  },
  {
   "attachments": {},
   "cell_type": "markdown",
   "metadata": {},
   "source": [
    "***insights about attributes from the dataset using appropriate visualizations***\n",
    "- https://www.kaggle.com/code/araspirbadian/hotel-booking-visualization is a refrence that we used"
   ]
  },
  {
   "attachments": {},
   "cell_type": "markdown",
   "metadata": {},
   "source": [
    "**now from the following we got that august is the month with most bookings and also with most cancellations and a lot of bookings in April and June and May and January gets cancelled**"
   ]
  },
  {
   "cell_type": "code",
   "execution_count": 12,
   "metadata": {},
   "outputs": [
    {
     "name": "stderr",
     "output_type": "stream",
     "text": [
      "23/06/09 01:35:20 WARN TaskSetManager: Stage 373 contains a task of very large size (1337 KiB). The maximum recommended task size is 1000 KiB.\n"
     ]
    },
    {
     "data": {
      "image/png": "[encoded data removed]",
      "text/plain": [
       "<Figure size 1200x600 with 1 Axes>"
      ]
     },
     "metadata": {},
     "output_type": "display_data"
    }
   ],
   "source": [
    "#counting the number of bookings by every month to get the months with most traffic on bookings and also considering the cancellation\n",
    "visualize1 = sdf.groupBy(\"arrival_date_month\", \"is_canceled\").count().orderBy(\"arrival_date_month\").toPandas()\n",
    "\n",
    "# Prepare the data for plotting\n",
    "months = visualize1[\"arrival_date_month\"].unique()\n",
    "canceled_counts = visualize1[visualize1[\"is_canceled\"] == 1][\"count\"]\n",
    "non_canceled_counts = visualize1[visualize1[\"is_canceled\"] == 0][\"count\"]\n",
    "\n",
    "# Plot\n",
    "plt.figure(figsize=(12, 6))\n",
    "plt.bar(months, non_canceled_counts, label='Non-canceled')\n",
    "plt.bar(months, canceled_counts, bottom=non_canceled_counts, label='Canceled')\n",
    "plt.xlabel(\"Month\")\n",
    "plt.ylabel(\"Number of Bookings\")\n",
    "plt.title(\"number of canceled and non-canceled bookings for each month\")\n",
    "plt.legend()\n",
    "plt.show()"
   ]
  },
  {
   "attachments": {},
   "cell_type": "markdown",
   "metadata": {},
   "source": [
    "**From the following visualization we can know that when we have 12 guest they stay a lot of time (the most)**"
   ]
  },
  {
   "cell_type": "code",
   "execution_count": 13,
   "metadata": {},
   "outputs": [
    {
     "name": "stderr",
     "output_type": "stream",
     "text": [
      "23/06/09 01:35:27 WARN TaskSetManager: Stage 386 contains a task of very large size (1337 KiB). The maximum recommended task size is 1000 KiB.\n"
     ]
    },
    {
     "data": {
      "image/png": "[encoded data removed]",
      "text/plain": [
       "<Figure size 1000x600 with 1 Axes>"
      ]
     },
     "metadata": {},
     "output_type": "display_data"
    }
   ],
   "source": [
    "# Extract the relevant columns from the DataFrame\n",
    "df = sdf.select(\"total_guests\", \"total_stays\").toPandas()\n",
    "\n",
    "# Group the data by the number of total guests and calculate the average total stays\n",
    "grouped_data = df.groupby(\"total_guests\").mean(\"total_stays\").reset_index()\n",
    "\n",
    "# Create a grouped bar chart to compare the average total stays for different number of total guests\n",
    "x = np.arange(len(grouped_data))\n",
    "bar_width = 0.35\n",
    "\n",
    "plt.figure(figsize=(10, 6))\n",
    "plt.bar(x, grouped_data[\"total_stays\"], bar_width, label=\"Average Total Stays\")\n",
    "plt.xlabel(\"Total Guests\")\n",
    "plt.ylabel(\"Average Total Stays\")\n",
    "plt.title(\"Average Total Stays by Number Total Guests\")\n",
    "plt.xticks(x, grouped_data[\"total_guests\"])\n",
    "plt.legend()\n",
    "plt.tight_layout()\n",
    "plt.show()\n"
   ]
  },
  {
   "attachments": {},
   "cell_type": "markdown",
   "metadata": {},
   "source": [
    " **we get from the following visualization that portugal is the country with most number of bookings**"
   ]
  },
  {
   "cell_type": "code",
   "execution_count": 14,
   "metadata": {},
   "outputs": [
    {
     "name": "stderr",
     "output_type": "stream",
     "text": [
      "23/06/09 01:35:33 WARN TaskSetManager: Stage 389 contains a task of very large size (1337 KiB). The maximum recommended task size is 1000 KiB.\n"
     ]
    },
    {
     "data": {
      "image/png": "[encoded data removed]",
      "text/plain": [
       "<Figure size 1000x600 with 1 Axes>"
      ]
     },
     "metadata": {},
     "output_type": "display_data"
    }
   ],
   "source": [
    "# counting the number of bookings in every country\n",
    "country_bookings = sdf.groupBy(\"country\").count().orderBy(\"count\", ascending=False).limit(10)\n",
    "\n",
    "country_bookings_pd = country_bookings.toPandas()\n",
    "\n",
    "# Plot\n",
    "plt.figure(figsize=(10, 6))\n",
    "sns.barplot(x=\"count\", y=\"country\", data=country_bookings_pd)\n",
    "plt.xlabel(\"Number of Bookings\")\n",
    "plt.ylabel(\"Country\")\n",
    "plt.title(\"Top 10 Countries with Highest Bookings\")\n",
    "plt.show()\n",
    "\n",
    "\n"
   ]
  },
  {
   "attachments": {},
   "cell_type": "markdown",
   "metadata": {},
   "source": [
    "**the following graph shows that JW marriott is more international than Renaissance** "
   ]
  },
  {
   "cell_type": "code",
   "execution_count": 15,
   "metadata": {},
   "outputs": [
    {
     "name": "stderr",
     "output_type": "stream",
     "text": [
      "23/06/09 01:35:38 WARN TaskSetManager: Stage 395 contains a task of very large size (1337 KiB). The maximum recommended task size is 1000 KiB.\n"
     ]
    },
    {
     "data": {
      "text/plain": [
       "Text(0.5, 1.0, 'Count of Hotels for Each Country')"
      ]
     },
     "execution_count": 15,
     "metadata": {},
     "output_type": "execute_result"
    },
    {
     "data": {
      "image/png": "[encoded data removed]",
      "text/plain": [
       "<Figure size 640x480 with 1 Axes>"
      ]
     },
     "metadata": {},
     "output_type": "display_data"
    }
   ],
   "source": [
    "country_bookings = sdf.groupBy(\"country\" , \"hotel\").count().orderBy(\"count\", ascending=False).limit(10)\n",
    "\n",
    "country_bookings_pd = country_bookings.toPandas()\n",
    "\n",
    "\n",
    "\n",
    "df = pd.DataFrame(country_bookings_pd)\n",
    "\n",
    "country_hotel_counts = df.groupby(['country', 'hotel'])['count'].sum()\n",
    "\n",
    "pivot_table = country_hotel_counts.unstack()\n",
    "\n",
    "pivot_table.plot(kind='bar')\n",
    "\n",
    "plt.xlabel('Country')\n",
    "plt.ylabel('Count')\n",
    "plt.title('Count of Hotels for Each Country')"
   ]
  },
  {
   "attachments": {},
   "cell_type": "markdown",
   "metadata": {},
   "source": [
    "***Four ML models to predict wether the booking will get cancelled or not***\n",
    "\n",
    "- using indexers - encoder - assembler that way i did it with help of this refrence https://stackoverflow.com/questions/63453146/how-to-handle-string-indexer-and-onehot-encoder-in-pyspark-pipeline-stages\n",
    "\n",
    "- and also pyspark.ml documentation https://spark.apache.org/docs/2.3.0/api/python/pyspark.ml.html"
   ]
  },
  {
   "cell_type": "code",
   "execution_count": 39,
   "metadata": {},
   "outputs": [
    {
     "name": "stderr",
     "output_type": "stream",
     "text": [
      "23/06/09 01:44:28 WARN TaskSetManager: Stage 5331 contains a task of very large size (1337 KiB). The maximum recommended task size is 1000 KiB.\n",
      "23/06/09 01:44:29 WARN TaskSetManager: Stage 5337 contains a task of very large size (1337 KiB). The maximum recommended task size is 1000 KiB.\n",
      "23/06/09 01:44:29 WARN TaskSetManager: Stage 5343 contains a task of very large size (1337 KiB). The maximum recommended task size is 1000 KiB.\n"
     ]
    }
   ],
   "source": [
    "from pyspark.ml import Pipeline\n",
    "from pyspark.ml.feature import StringIndexer, OneHotEncoder, VectorAssembler\n",
    "from pyspark.ml.classification import LogisticRegression, RandomForestClassifier, GBTClassifier\n",
    "from pyspark.ml.evaluation import BinaryClassificationEvaluator\n",
    "from pyspark.ml.classification import MultilayerPerceptronClassifier\n",
    "from pyspark.ml.classification import LinearSVC\n",
    "\n",
    "#slecting the columns that i will use i tried selecting more columns but it only increase complexity and dosnt affect scores that much\n",
    "#so these are the columns with influence on the performance of the models\n",
    "data = sdf.select(\"hotel\",\"previous_cancellations\",\"previous_bookings_not_canceled\",\"customer_type\",\"total_of_special_requests\",\"is_canceled\", \"adr\", \"lead_time\", \"arrival_date_week_number\",\"month_nubr\", \"total_guests\",\"total_stays\",\"deposit_type\")\n",
    "\n",
    "\n",
    "# converting categorical columns to numerical \n",
    "indexers = [StringIndexer(inputCol=column, outputCol=column+\"_index\").fit(data) for column in [\"hotel\", \"deposit_type\",\"customer_type\"]]\n",
    "encoder = OneHotEncoder(inputCols=[indexer.getOutputCol() for indexer in indexers], outputCols=[\"hotel_cat\", \"deposit_type_cat\",\"customer_type_cat\"])\n",
    "\n",
    "assembler = VectorAssembler(inputCols=[\"hotel_cat\",\"previous_cancellations\",\"previous_bookings_not_canceled\",\"customer_type_cat\",\"total_of_special_requests\",\"lead_time\",\"month_nubr\",\"arrival_date_week_number\", \"adr\", \"total_guests\", \"total_stays\", \"deposit_type_cat\"], outputCol=\"features\")\n",
    "\n",
    "\n",
    "train_data, test_data = data.randomSplit([0.8, 0.2], seed=42)\n",
    "\n",
    "#evaluating the models using BinaryClassificationEvaluator\n",
    "evaluator = BinaryClassificationEvaluator(labelCol=\"is_canceled\")\n"
   ]
  },
  {
   "cell_type": "code",
   "execution_count": 40,
   "metadata": {},
   "outputs": [
    {
     "name": "stderr",
     "output_type": "stream",
     "text": [
      "23/06/09 01:44:34 WARN TaskSetManager: Stage 5349 contains a task of very large size (1337 KiB). The maximum recommended task size is 1000 KiB.\n",
      "23/06/09 01:44:34 WARN TaskSetManager: Stage 5350 contains a task of very large size (1337 KiB). The maximum recommended task size is 1000 KiB.\n",
      "23/06/09 01:44:55 WARN TaskSetManager: Stage 6557 contains a task of very large size (1337 KiB). The maximum recommended task size is 1000 KiB.\n",
      "23/06/09 01:44:56 WARN TaskSetManager: Stage 6558 contains a task of very large size (1337 KiB). The maximum recommended task size is 1000 KiB.\n",
      "23/06/09 01:44:56 WARN TaskSetManager: Stage 6559 contains a task of very large size (1337 KiB). The maximum recommended task size is 1000 KiB.\n"
     ]
    },
    {
     "name": "stdout",
     "output_type": "stream",
     "text": [
      "SVM :  0.7890536614153586\n"
     ]
    },
    {
     "name": "stderr",
     "output_type": "stream",
     "text": [
      "                                                                                \r"
     ]
    }
   ],
   "source": [
    "\n",
    "svm = LinearSVC(labelCol=\"is_canceled\", featuresCol=\"features\")\n",
    "#fiting the pipeline on training data\n",
    "pipeline_svm = Pipeline(stages=indexers + [encoder, assembler, svm])\n",
    "model_svm = pipeline_svm.fit(train_data)\n",
    "#predicting on the test data\n",
    "predictions_svm = model_svm.transform(test_data)\n",
    "#evaluating our model\n",
    "score = evaluator.evaluate(predictions_svm)\n",
    "print(\"SVM : \", score)"
   ]
  },
  {
   "cell_type": "code",
   "execution_count": 41,
   "metadata": {},
   "outputs": [
    {
     "name": "stderr",
     "output_type": "stream",
     "text": [
      "23/06/09 01:45:01 WARN TaskSetManager: Stage 6575 contains a task of very large size (1337 KiB). The maximum recommended task size is 1000 KiB.\n",
      "23/06/09 01:45:02 WARN TaskSetManager: Stage 6576 contains a task of very large size (1337 KiB). The maximum recommended task size is 1000 KiB.\n",
      "23/06/09 01:45:06 WARN TaskSetManager: Stage 6736 contains a task of very large size (1337 KiB). The maximum recommended task size is 1000 KiB.\n",
      "23/06/09 01:45:07 WARN TaskSetManager: Stage 6737 contains a task of very large size (1337 KiB). The maximum recommended task size is 1000 KiB.\n",
      "23/06/09 01:45:07 WARN TaskSetManager: Stage 6738 contains a task of very large size (1337 KiB). The maximum recommended task size is 1000 KiB.\n"
     ]
    },
    {
     "name": "stdout",
     "output_type": "stream",
     "text": [
      "Logistic Regression: 0.8114921986578606\n"
     ]
    },
    {
     "name": "stderr",
     "output_type": "stream",
     "text": [
      "                                                                                \r"
     ]
    }
   ],
   "source": [
    "Logistic = LogisticRegression(labelCol=\"is_canceled\", featuresCol=\"features\")\n",
    "pipeline = Pipeline(stages=indexers + [encoder, assembler, Logistic])\n",
    "model = pipeline.fit(train_data)\n",
    "prediction = model.transform(test_data)\n",
    "score = evaluator.evaluate(prediction)\n",
    "print(\"Logistic Regression:\", score)"
   ]
  },
  {
   "cell_type": "code",
   "execution_count": 42,
   "metadata": {},
   "outputs": [
    {
     "name": "stderr",
     "output_type": "stream",
     "text": [
      "23/06/09 01:45:11 WARN TaskSetManager: Stage 6754 contains a task of very large size (1337 KiB). The maximum recommended task size is 1000 KiB.\n",
      "23/06/09 01:45:11 WARN TaskSetManager: Stage 6755 contains a task of very large size (1337 KiB). The maximum recommended task size is 1000 KiB.\n",
      "23/06/09 01:45:12 WARN TaskSetManager: Stage 6761 contains a task of very large size (1337 KiB). The maximum recommended task size is 1000 KiB.\n",
      "23/06/09 01:45:15 WARN TaskSetManager: Stage 6784 contains a task of very large size (1337 KiB). The maximum recommended task size is 1000 KiB.\n",
      "23/06/09 01:45:15 WARN TaskSetManager: Stage 6785 contains a task of very large size (1337 KiB). The maximum recommended task size is 1000 KiB.\n",
      "23/06/09 01:45:16 WARN TaskSetManager: Stage 6786 contains a task of very large size (1337 KiB). The maximum recommended task size is 1000 KiB.\n"
     ]
    },
    {
     "name": "stdout",
     "output_type": "stream",
     "text": [
      "Random Forest : 0.8279049416555961\n"
     ]
    }
   ],
   "source": [
    "Forest = RandomForestClassifier(labelCol=\"is_canceled\", featuresCol=\"features\")\n",
    "pipeline = Pipeline(stages=indexers + [encoder, assembler, Forest])\n",
    "model = pipeline.fit(train_data)\n",
    "prediction = model.transform(test_data)\n",
    "score = evaluator.evaluate(prediction)\n",
    "print(\"Random Forest :\", score)"
   ]
  },
  {
   "cell_type": "code",
   "execution_count": 43,
   "metadata": {},
   "outputs": [
    {
     "name": "stderr",
     "output_type": "stream",
     "text": [
      "23/06/09 01:45:21 WARN TaskSetManager: Stage 6802 contains a task of very large size (1337 KiB). The maximum recommended task size is 1000 KiB.\n",
      "23/06/09 01:45:22 WARN TaskSetManager: Stage 6803 contains a task of very large size (1337 KiB). The maximum recommended task size is 1000 KiB.\n",
      "23/06/09 01:45:30 WARN TaskSetManager: Stage 7111 contains a task of very large size (1337 KiB). The maximum recommended task size is 1000 KiB.\n"
     ]
    },
    {
     "name": "stdout",
     "output_type": "stream",
     "text": [
      "Gradient Boosted Trees : 0.8425790268864483\n"
     ]
    }
   ],
   "source": [
    "Gradient = GBTClassifier(labelCol=\"is_canceled\", featuresCol=\"features\")\n",
    "pipeline = Pipeline(stages=indexers + [encoder, assembler, Gradient])\n",
    "model = pipeline.fit(train_data)\n",
    "prediction = model.transform(test_data)\n",
    "score = evaluator.evaluate(prediction)\n",
    "print(\"Gradient Boosted Trees :\", score)"
   ]
  }
 ],
 "metadata": {
  "kernelspec": {
   "display_name": "Python 3",
   "language": "python",
   "name": "python3"
  },
  "language_info": {
   "codemirror_mode": {
    "name": "ipython",
    "version": 3
   },
   "file_extension": ".py",
   "mimetype": "text/x-python",
   "name": "python",
   "nbconvert_exporter": "python",
   "pygments_lexer": "ipython3",
   "version": "3.9.6"
  },
  "orig_nbformat": 4
 },
 "nbformat": 4,
 "nbformat_minor": 2
}
