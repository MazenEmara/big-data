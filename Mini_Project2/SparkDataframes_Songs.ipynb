{
  "cells": [
    {
      "cell_type": "code",
      "execution_count": null,
      "metadata": {
        "colab": {
          "base_uri": "https://localhost:8080/"
        },
        "id": "Unjmt2jDY57b",
        "outputId": "476ce806-7a46-4c30-d6c8-bf5f19197f18"
      },
      "outputs": [],
      "source": [
        "# Installing required packages\n",
        "!pip install pyspark\n",
        "!pip install findspark\n",
        "!pip install pandas"
      ]
    },
    {
      "cell_type": "code",
      "execution_count": 61,
      "metadata": {
        "id": "rpgCzdWxY8hD"
      },
      "outputs": [],
      "source": [
        "import findspark\n",
        "findspark.init()"
      ]
    },
    {
      "cell_type": "code",
      "execution_count": 62,
      "metadata": {
        "id": "i_XKKeYzY9DS"
      },
      "outputs": [],
      "source": [
        "import pandas as pd\n",
        "from pyspark import SparkContext, SparkConf\n",
        "from pyspark.sql import SparkSession\n",
        "from pyspark.sql.functions import col, expr,when"
      ]
    },
    {
      "cell_type": "code",
      "execution_count": null,
      "metadata": {
        "id": "1QLG7ayvZBVq"
      },
      "outputs": [],
      "source": [
        "# Creating a spark context class\n",
        "sc = SparkContext()\n",
        "\n",
        "# Creating a spark session\n",
        "spark = SparkSession \\\n",
        "    .builder \\\n",
        "    .appName(\"Python Spark DataFrames basic example\") \\\n",
        "    .config(\"spark.some.config.option\", \"some-value\") \\\n",
        "    .getOrCreate()"
      ]
    },
    {
      "cell_type": "code",
      "execution_count": 63,
      "metadata": {
        "colab": {
          "base_uri": "https://localhost:8080/",
          "height": 218
        },
        "id": "Tvo5E2WMZEKS",
        "outputId": "f67d0d27-61c3-42f8-b3e2-36ac6aac4c83"
      },
      "outputs": [
        {
          "data": {
            "text/html": [
              "\n",
              "            <div>\n",
              "                <p><b>SparkSession - in-memory</b></p>\n",
              "                \n",
              "        <div>\n",
              "            <p><b>SparkContext</b></p>\n",
              "\n",
              "            <p><a href=\"http://999695a7fcfd:4040\">Spark UI</a></p>\n",
              "\n",
              "            <dl>\n",
              "              <dt>Version</dt>\n",
              "                <dd><code>v3.4.0</code></dd>\n",
              "              <dt>Master</dt>\n",
              "                <dd><code>local[*]</code></dd>\n",
              "              <dt>AppName</dt>\n",
              "                <dd><code>pyspark-shell</code></dd>\n",
              "            </dl>\n",
              "        </div>\n",
              "        \n",
              "            </div>\n",
              "        "
            ],
            "text/plain": [
              "<pyspark.sql.session.SparkSession at 0x7f69a509b820>"
            ]
          },
          "execution_count": 63,
          "metadata": {},
          "output_type": "execute_result"
        }
      ],
      "source": [
        "spark"
      ]
    },
    {
      "cell_type": "markdown",
      "metadata": {
        "id": "w_30nAkPZKQ3"
      },
      "source": [
        "Loading data into a Pandas Dataframe then into a Spark DataFrame"
      ]
    },
    {
      "cell_type": "code",
      "execution_count": 64,
      "metadata": {
        "id": "A4gjUMFQZLEC"
      },
      "outputs": [],
      "source": [
        "music_streaming = pd.read_csv('music_streaming.csv')\n",
        "sdf = spark.createDataFrame(music_streaming) "
      ]
    },
    {
      "cell_type": "code",
      "execution_count": 65,
      "metadata": {
        "colab": {
          "base_uri": "https://localhost:8080/"
        },
        "id": "QQCGZT1QZl0X",
        "outputId": "9001bcf8-e92e-4c21-8d8d-10c5067121a0"
      },
      "outputs": [
        {
          "name": "stdout",
          "output_type": "stream",
          "text": [
            "root\n",
            " |-- Artist Name: string (nullable = true)\n",
            " |-- Track Name: string (nullable = true)\n",
            " |-- Popularity: double (nullable = true)\n",
            " |-- danceability: double (nullable = true)\n",
            " |-- energy: double (nullable = true)\n",
            " |-- key: double (nullable = true)\n",
            " |-- loudness: double (nullable = true)\n",
            " |-- mode: long (nullable = true)\n",
            " |-- speechiness: double (nullable = true)\n",
            " |-- acousticness: double (nullable = true)\n",
            " |-- instrumentalness: double (nullable = true)\n",
            " |-- liveness: double (nullable = true)\n",
            " |-- valence: double (nullable = true)\n",
            " |-- tempo: double (nullable = true)\n",
            " |-- duration_in min/ms: double (nullable = true)\n",
            " |-- time_signature: long (nullable = true)\n",
            " |-- Genre: long (nullable = true)\n",
            "\n",
            "+--------------------+--------------------+----------+------------+------+----+--------+----+-----------+------------+----------------+--------+-------+-------+------------------+--------------+-----+\n",
            "|         Artist Name|          Track Name|Popularity|danceability|energy| key|loudness|mode|speechiness|acousticness|instrumentalness|liveness|valence|  tempo|duration_in min/ms|time_signature|Genre|\n",
            "+--------------------+--------------------+----------+------------+------+----+--------+----+-----------+------------+----------------+--------+-------+-------+------------------+--------------+-----+\n",
            "|          Bruno Mars|That's What I Lik...|      60.0|       0.854| 0.564| 1.0|  -4.964|   1|     0.0485|      0.0171|             NaN|  0.0849|  0.899|134.071|          234596.0|             4|    5|\n",
            "|              Boston|        Hitch a Ride|      54.0|       0.382| 0.814| 3.0|   -7.23|   1|     0.0406|      0.0011|         0.00401|   0.101|  0.569|116.454|          251733.0|             4|   10|\n",
            "|       The Raincoats|  No Side to Fall In|      35.0|       0.434| 0.614| 6.0|  -8.334|   1|     0.0525|       0.486|         1.96E-4|   0.394|  0.787|147.681|          109667.0|             4|    6|\n",
            "|                Deno|Lingo (feat. J.I ...|      66.0|       0.853| 0.597|10.0|  -6.528|   0|     0.0555|      0.0212|             NaN|   0.122|  0.569|107.033|          173968.0|             4|    5|\n",
            "|Red Hot Chili Pep...|Nobody Weird Like...|      53.0|       0.167| 0.975| 2.0|  -4.279|   1|      0.216|     1.69E-4|          0.0161|   0.172| 0.0918| 199.06|          229960.0|             4|   10|\n",
            "|         The Stooges|Search and Destro...|      53.0|       0.235| 0.977| 6.0|   0.878|   1|      0.107|     0.00353|         0.00604|   0.172|  0.241|152.952|          208133.0|             4|    6|\n",
            "|       Solomon Burke| None Of Us Are Free|      48.0|       0.674| 0.658| 5.0|  -9.647|   0|      0.104|       0.404|         1.34E-6|  0.0981|  0.677|143.292|          329387.0|             4|    2|\n",
            "|        Randy Travis|   On the Other Hand|      55.0|       0.657| 0.415| 5.0|  -9.915|   1|      0.025|       0.175|         5.65E-6|   0.132|  0.347|  96.03|       3.105783333|             4|    4|\n",
            "|Professional Murd...|                Slow|      29.0|       0.431| 0.776|10.0|  -5.403|   1|     0.0527|     2.21E-5|          0.0013|   0.179|  0.318|120.857|          237867.0|             4|    8|\n",
            "|       Mohammed Rafi|Meri Dosti Mera Pyar|      11.0|       0.491| 0.563| 7.0|  -8.588|   0|     0.0331|       0.957|          0.0023|   0.263|  0.843| 95.558|           4.33045|             4|    3|\n",
            "+--------------------+--------------------+----------+------------+------+----+--------+----+-----------+------------+----------------+--------+-------+-------+------------------+--------------+-----+\n",
            "only showing top 10 rows\n",
            "\n",
            "Rows 15517\n"
          ]
        }
      ],
      "source": [
        "sdf.printSchema()\n",
        "sdf.show(10)\n",
        "print('Rows',sdf.count()) #15517 before cleaning"
      ]
    },
    {
      "cell_type": "code",
      "execution_count": 66,
      "metadata": {
        "colab": {
          "base_uri": "https://localhost:8080/"
        },
        "id": "wLUo4MAlc788",
        "outputId": "99be0f5a-0c03-4775-ea0a-28045c7c98c2"
      },
      "outputs": [
        {
          "name": "stdout",
          "output_type": "stream",
          "text": [
            "+-----------+----------+----------+------------+------+----+--------+----+-----------+------------+----------------+--------+-------+-----+------------------+--------------+-----+\n",
            "|Artist Name|Track Name|Popularity|danceability|energy| key|loudness|mode|speechiness|acousticness|instrumentalness|liveness|valence|tempo|duration_in min/ms|time_signature|Genre|\n",
            "+-----------+----------+----------+------------+------+----+--------+----+-----------+------------+----------------+--------+-------+-----+------------------+--------------+-----+\n",
            "|          0|         0|       394|           0|     0|1743|       0|   0|          0|           0|            3587|       0|      0|    0|                 0|             0|    0|\n",
            "+-----------+----------+----------+------------+------+----+--------+----+-----------+------------+----------------+--------+-------+-----+------------------+--------------+-----+\n",
            "\n"
          ]
        }
      ],
      "source": [
        "#data cleaning \n",
        "\n",
        "# handling invalid rows and Null Values this is provided by spark\n",
        "sdf1=spark.read.option(\"header\",True).option(\"mode\",'DROPMALFORMED').csv('music_streaming.csv')\n",
        "\n",
        "#showing missing values in all columns\n",
        "from pyspark.sql.functions import col,isnan, when, count\n",
        "sdf1.select([count(when(isnan(c) | col(c).isNull(), c)).alias(c) for c in sdf1.columns]\n",
        "   ).show()\n",
        "\n",
        "#the mising values didnt exceed  even 10% inn any of the 3 columns that have them so \n",
        "#we wont remove them just fill with 0\n",
        "sdf1 = sdf1.fillna(0)\n",
        "\n",
        "\n",
        "# droping Duplicates\n",
        "sdf1 = sdf1.dropDuplicates()  # Drop duplicate rows\n",
        "sdf1=sdf1.dropDuplicates(['Track Name'])\n",
        "\n"
      ]
    },
    {
      "cell_type": "code",
      "execution_count": 67,
      "metadata": {
        "colab": {
          "base_uri": "https://localhost:8080/"
        },
        "id": "aL6wDHQ88_um",
        "outputId": "72f67c1f-123e-43e0-97fe-cdb2a3b10385"
      },
      "outputs": [
        {
          "data": {
            "text/plain": [
              "13021"
            ]
          },
          "execution_count": 67,
          "metadata": {},
          "output_type": "execute_result"
        }
      ],
      "source": [
        "sdf1.count() #13021 rows after droping duplicates"
      ]
    },
    {
      "cell_type": "code",
      "execution_count": 68,
      "metadata": {
        "colab": {
          "base_uri": "https://localhost:8080/"
        },
        "id": "QqzxGslV1AgV",
        "outputId": "6ce2d238-2a01-4a29-90ed-5626816ad849"
      },
      "outputs": [
        {
          "name": "stdout",
          "output_type": "stream",
          "text": [
            "+--------------------+--------------------+----------+------------+------+----+--------+----+-----------+------------+----------------+--------+-------+-------+--------------+-----+------------------+\n",
            "|         Artist Name|          Track Name|Popularity|danceability|energy| key|loudness|mode|speechiness|acousticness|instrumentalness|liveness|valence|  tempo|time_signature|Genre|   duration_in min|\n",
            "+--------------------+--------------------+----------+------------+------+----+--------+----+-----------+------------+----------------+--------+-------+-------+--------------+-----+------------------+\n",
            "|Shaarib Toshi, Ar...|\"Bandeya (feat. A...|        60|       0.465| 0.551|   7|   -6.58|   1|     0.0362|       0.619|        6.03E-06|   0.109|  0.415| 89.459|             4|    3|       3.077766667|\n",
            "|B Praak, Tanishk ...|\"Baras Baras (Fro...|        54|       0.493| 0.402|   2|  -6.629|   1|     0.0309|       0.619|            null|  0.0629|  0.431| 155.57|             4|    3|       3.335916667|\n",
            "|        Jon Bon Jovi|\"Blaze Of Glory -...|        66|        0.55| 0.618|   7|  -9.822|   1|     0.0307|      0.0564|        2.62E-05|  0.0937|  0.429|  78.61|             4|   10|5.5873333333333335|\n",
            "|Mithoon, Arijit S...|\"Chal Ghar Chalen...|        62|       0.285| 0.238|   5|  -9.623|   0|     0.0375|       0.663|        9.23E-06|  0.0793|  0.213|179.918|             4|    3|       5.677866667|\n",
            "|Abhijeet Srivasta...|\"Chashni (From \"\"...|        58|       0.756|  0.52|   6|  -8.642|   1|     0.0341|       0.495|            null|  0.0901|  0.684| 119.92|             4|    3|           4.43325|\n",
            "|      Olivia Rodrigo|\"Even When/The Be...|        73|       0.522| 0.336|null|  -8.577|   1|     0.0275|       0.714|            null|   0.109|  0.566| 90.646|             4|    9|           1.78135|\n",
            "|Jubin Nautiyal, G...|\"Hanjugam (From \"...|        55|       0.549| 0.665|   4|  -3.603|   1|     0.0288|       0.129|            null|  0.0886|  0.465| 94.959|             4|    3|            3.7571|\n",
            "|             Phoenix|\"Identical - From...|        57|       0.627| 0.761|   2|   -8.57|   1|      0.036|    0.000237|           0.839|   0.135|  0.672|128.005|             4|    6|           3.22105|\n",
            "|Asha Bhosle, Shai...|\"Jaane Do Naa - F...|        39|       0.566| 0.447|   3| -11.403|   1|     0.0349|       0.769|        6.19E-05|   0.208|  0.553|108.268|             4|    3|       5.055783333|\n",
            "|      Ellie Goulding|\"Love Me Like You...|        78|       0.262| 0.606|   8|  -6.646|   1|     0.0484|       0.247|            null|   0.125|  0.275|189.857|             4|    9|            4.2089|\n",
            "+--------------------+--------------------+----------+------------+------+----+--------+----+-----------+------------+----------------+--------+-------+-------+--------------+-----+------------------+\n",
            "only showing top 10 rows\n",
            "\n",
            "+--------------------+--------------------+----------+------------+------+----+--------+----+-----------+------------+----------------+--------+-------+-------+--------------+------------+------------------+\n",
            "|         Artist Name|          Track Name|Popularity|danceability|energy| key|loudness|mode|speechiness|acousticness|instrumentalness|liveness|valence|  tempo|time_signature|       Genre|   duration_in min|\n",
            "+--------------------+--------------------+----------+------------+------+----+--------+----+-----------+------------+----------------+--------+-------+-------+--------------+------------+------------------+\n",
            "|Shaarib Toshi, Ar...|\"Bandeya (feat. A...|        60|       0.465| 0.551|   7|   -6.58|   1|     0.0362|       0.619|        6.03E-06|   0.109|  0.415| 89.459|             4|         Pop|       3.077766667|\n",
            "|B Praak, Tanishk ...|\"Baras Baras (Fro...|        54|       0.493| 0.402|   2|  -6.629|   1|     0.0309|       0.619|            null|  0.0629|  0.431| 155.57|             4|         Pop|       3.335916667|\n",
            "|        Jon Bon Jovi|\"Blaze Of Glory -...|        66|        0.55| 0.618|   7|  -9.822|   1|     0.0307|      0.0564|        2.62E-05|  0.0937|  0.429|  78.61|             4|     Country|5.5873333333333335|\n",
            "|Mithoon, Arijit S...|\"Chal Ghar Chalen...|        62|       0.285| 0.238|   5|  -9.623|   0|     0.0375|       0.663|        9.23E-06|  0.0793|  0.213|179.918|             4|         Pop|       5.677866667|\n",
            "|Abhijeet Srivasta...|\"Chashni (From \"\"...|        58|       0.756|  0.52|   6|  -8.642|   1|     0.0341|       0.495|            null|  0.0901|  0.684| 119.92|             4|         Pop|           4.43325|\n",
            "|      Olivia Rodrigo|\"Even When/The Be...|        73|       0.522| 0.336|null|  -8.577|   1|     0.0275|       0.714|            null|   0.109|  0.566| 90.646|             4|Instrumental|           1.78135|\n",
            "|Jubin Nautiyal, G...|\"Hanjugam (From \"...|        55|       0.549| 0.665|   4|  -3.603|   1|     0.0288|       0.129|            null|  0.0886|  0.465| 94.959|             4|         Pop|            3.7571|\n",
            "|             Phoenix|\"Identical - From...|        57|       0.627| 0.761|   2|   -8.57|   1|      0.036|    0.000237|           0.839|   0.135|  0.672|128.005|             4|   Alt_Music|           3.22105|\n",
            "|Asha Bhosle, Shai...|\"Jaane Do Naa - F...|        39|       0.566| 0.447|   3| -11.403|   1|     0.0349|       0.769|        6.19E-05|   0.208|  0.553|108.268|             4|         Pop|       5.055783333|\n",
            "|      Ellie Goulding|\"Love Me Like You...|        78|       0.262| 0.606|   8|  -6.646|   1|     0.0484|       0.247|            null|   0.125|  0.275|189.857|             4|Instrumental|            4.2089|\n",
            "+--------------------+--------------------+----------+------------+------+----+--------+----+-----------+------------+----------------+--------+-------+-------+--------------+------------+------------------+\n",
            "only showing top 10 rows\n",
            "\n"
          ]
        }
      ],
      "source": [
        "# Import required libraries\n",
        "from pyspark.sql.types import StringType\n",
        "\n",
        "\n",
        "\n",
        "# Convert milliseconds to minutes\n",
        "#if i understand right the values of duration have some in mins and some in ms\n",
        "#So my logic is that if the value bigger than 1000 then definetly thats ms so i transform it to min else we leave it as it is\n",
        "\n",
        "#so here i put a new column that if the value of duration_in min/ms bigger than 100O we put the old value/60000 \n",
        "#otherwise we put the same old value\n",
        "sdf1 = sdf1.withColumn(\"duration_in min\", when(col(\"duration_in min/ms\") > 10000, col(\"duration_in min/ms\") / 60000).otherwise(col(\"duration_in min/ms\")))\n",
        "\n",
        "#we drop the old column as we dont need it anymore\n",
        "sdf1 =sdf1.drop('duration_in min/ms')\n",
        "sdf1.show(10)\n",
        "\n",
        "# Classification\n",
        "\n",
        "#mapping = {   0: \"Rock\",1: \"Indie\",2: \"Alt\",3: \"Pop\",4: \"Metal\",5: \"HipHop\",6: \"Alt_Music\",7: \"Blues\",8: \"Acoustic/Folk\",9: \"Instrumental\",10: \"Country\"}\n",
        "\n",
        "sdf1 = sdf1.withColumn(\"Genre\", when(col(\"Genre\") == 0, \"Rock\").when(col(\"Genre\") == 1, \"Indie\").when(col(\"Genre\") == 2, \"Alt\").when(col(\"Genre\") == 3, \"Pop\")\n",
        ".when(col(\"Genre\") == 4, \"Metal\").when(col(\"Genre\") == 5, \"HipHop\").when(col(\"Genre\") == 6, \"Alt_Music\").when(col(\"Genre\") == 7, \"Blues\").when(col(\"Genre\") == 8, \"Acoustic/Folk\")\n",
        ".when(col(\"Genre\") == 9, \"Instrumental\").when(col(\"Genre\") == 10, \"Country\").otherwise(col(\"Genre\")))\n",
        "\n",
        "\n",
        "\n",
        "sdf1.show(10)\n"
      ]
    },
    {
      "cell_type": "code",
      "execution_count": 69,
      "metadata": {
        "colab": {
          "base_uri": "https://localhost:8080/"
        },
        "id": "fo9fwNlHc72_",
        "outputId": "e85de5bf-b242-4fb4-faa7-3c40d7afe61e"
      },
      "outputs": [
        {
          "name": "stdout",
          "output_type": "stream",
          "text": [
            "+--------------------+--------------------+----------+------------+------+---+--------+----+-----------+------------+----------------+--------+-------+-------+--------------+------------+---------------+\n",
            "|         Artist Name|          Track Name|Popularity|danceability|energy|key|loudness|mode|speechiness|acousticness|instrumentalness|liveness|valence|  tempo|time_signature|       Genre|duration_in min|\n",
            "+--------------------+--------------------+----------+------------+------+---+--------+----+-----------+------------+----------------+--------+-------+-------+--------------+------------+---------------+\n",
            "|Shaarib Toshi, Ar...|\"Bandeya (feat. A...|        60|       0.465| 0.551|  7|   -6.58|   1|     0.0362|       0.619|        6.03E-06|   0.109|  0.415| 89.459|             4|         Pop|    3.077766667|\n",
            "|B Praak, Tanishk ...|\"Baras Baras (Fro...|        54|       0.493| 0.402|  2|  -6.629|   1|     0.0309|       0.619|            null|  0.0629|  0.431| 155.57|             4|         Pop|    3.335916667|\n",
            "|Mithoon, Arijit S...|\"Chal Ghar Chalen...|        62|       0.285| 0.238|  5|  -9.623|   0|     0.0375|       0.663|        9.23E-06|  0.0793|  0.213|179.918|             4|         Pop|    5.677866667|\n",
            "|Abhijeet Srivasta...|\"Chashni (From \"\"...|        58|       0.756|  0.52|  6|  -8.642|   1|     0.0341|       0.495|            null|  0.0901|  0.684| 119.92|             4|         Pop|        4.43325|\n",
            "|Jubin Nautiyal, G...|\"Hanjugam (From \"...|        55|       0.549| 0.665|  4|  -3.603|   1|     0.0288|       0.129|            null|  0.0886|  0.465| 94.959|             4|         Pop|         3.7571|\n",
            "|Asha Bhosle, Shai...|\"Jaane Do Naa - F...|        39|       0.566| 0.447|  3| -11.403|   1|     0.0349|       0.769|        6.19E-05|   0.208|  0.553|108.268|             4|         Pop|    5.055783333|\n",
            "|Karthick Iyer, Sa...|\"Manasa Sancharar...|        21|       0.458| 0.517|  2| -12.141|   1|     0.0407|      0.0284|        7.79E-06|  0.0415|  0.339|149.896|             4|        Rock|        4.46685|\n",
            "|            Bee Gees|\"More Than A Woma...|        76|       0.601| 0.703|  7|   -6.24|   1|     0.0379|       0.175|        8.40E-05|   0.571|  0.673|106.164|             4|Instrumental|    3.270216667|\n",
            "|   Simon & Garfunkel|\"Mrs. Robinson - ...|        75|       0.606| 0.457|  6| -14.035|   0|     0.0497|       0.713|        2.53E-05|  0.0747|  0.813| 92.033|             4|        Rock|     4.06711667|\n",
            "|Ash King, Sachin-...|\"Nazar Na Lag Jaa...|        58|       0.527| 0.622|  7|  -8.172|   0|     0.0842|         0.7|        2.82E-06|   0.126|  0.672|173.709|             4|         Pop|        3.43625|\n",
            "+--------------------+--------------------+----------+------------+------+---+--------+----+-----------+------------+----------------+--------+-------+-------+--------------+------------+---------------+\n",
            "only showing top 10 rows\n",
            "\n"
          ]
        }
      ],
      "source": [
        "#b\n",
        "\n",
        "#removing songs that exceeds 5 mins using the filter function where the column duration is smaller than 5 so we neglect all\n",
        "#those who exceed 5\n",
        "Duration = sdf1.filter(col('duration_in min/ms') <= 5)\n",
        "Duration.show(10)\n"
      ]
    },
    {
      "cell_type": "code",
      "execution_count": 70,
      "metadata": {
        "colab": {
          "base_uri": "https://localhost:8080/"
        },
        "id": "gqxtgQBuc7z3",
        "outputId": "e5826f74-5b61-476d-b380-b6817936bbd7"
      },
      "outputs": [
        {
          "name": "stdout",
          "output_type": "stream",
          "text": [
            "+------------+--------------------+----------+------------+------+---+--------+----+-----------+------------+----------------+--------+-------+-------+--------------+------------+------------------+\n",
            "| Artist Name|          Track Name|Popularity|danceability|energy|key|loudness|mode|speechiness|acousticness|instrumentalness|liveness|valence|  tempo|time_signature|       Genre|   duration_in min|\n",
            "+------------+--------------------+----------+------------+------+---+--------+----+-----------+------------+----------------+--------+-------+-------+--------------+------------+------------------+\n",
            "|     J. Cole|     9 5 . s o u t h|        84|       0.713| 0.793|  2|  -5.277|   1|      0.397|       0.271|            null|   0.727|  0.203| 71.724|             4|      HipHop|3.2824333333333335|\n",
            "|     J. Cole|           a m a r i|        86|       0.725| 0.713|  4|  -6.173|   0|      0.187|       0.127|            null|   0.617|  0.207| 65.988|             4|Instrumental|2.4736833333333332|\n",
            "|     J. Cole|a p p l y i n g ....|        82|       0.699| 0.759|  1|  -5.302|   1|      0.311|      0.0814|            null|   0.312|  0.404| 83.092|             4|      HipHop| 2.955616666666667|\n",
            "|     J. Cole|m y . l i f e (wi...|        86|       0.597| 0.587|  7|  -7.026|   0|      0.137|      0.0622|            null|   0.214| 0.0753|140.021|             4|Instrumental|            3.6467|\n",
            "|     J. Cole|p r i d e . i s ....|        85|       0.861| 0.656|  4|  -7.867|   0|      0.425|       0.104|            null|  0.0986|  0.331| 88.967|             4|      HipHop| 3.636833333333333|\n",
            "|   Novo Amor|            Birdcage|        54|       0.574| 0.407|  1|  -8.321|   1|     0.0243|       0.902|           0.637|  0.0927|  0.223| 82.047|             4|   Alt_Music|           3.37045|\n",
            "|Anson Seabra|It's Raining, It'...|        70|       0.598| 0.444|  2|  -8.683|   0|     0.0327|        0.68|        1.94E-05|   0.142|  0.286|113.919|             4|Instrumental|            3.0515|\n",
            "|Anson Seabra|           Magazines|        46|       0.775| 0.424|  5| -12.276|   1|     0.0675|       0.511|            null|   0.123|  0.191| 114.95|             4|Instrumental|            3.6675|\n",
            "|     J. Cole|   i n t e r l u d e|        81|        0.77| 0.574|  1|  -5.525|   1|      0.106|      0.0617|            null|   0.104|  0.104| 98.962|             3|      HipHop| 2.217033333333333|\n",
            "|     J. Cole|l e t . g o . m y...|        82|       0.583| 0.625|  1|  -8.011|   1|      0.277|       0.506|            null|   0.196|  0.516| 89.812|             4|      HipHop| 4.438183333333333|\n",
            "+------------+--------------------+----------+------------+------+---+--------+----+-----------+------------+----------------+--------+-------+-------+--------------+------------+------------------+\n",
            "only showing top 10 rows\n",
            "\n"
          ]
        }
      ],
      "source": [
        "#c\n",
        "\n",
        "#filtering with column Artist Name in here isin() loops on the array \n",
        "#and checks if the value of the Name is one of those \n",
        "Names = sdf1.filter(col('Artist Name').isin(['J. Cole', 'Novo Amor', 'Anson Seabra']))\n",
        "Names.show(10)\n",
        "\n"
      ]
    },
    {
      "cell_type": "code",
      "execution_count": 71,
      "metadata": {
        "colab": {
          "base_uri": "https://localhost:8080/"
        },
        "id": "BNqaRh-tc7ww",
        "outputId": "6628350f-82c2-4ced-c342-6f5a7817bffc"
      },
      "outputs": [
        {
          "name": "stdout",
          "output_type": "stream",
          "text": [
            "+-------------+-----+\n",
            "|        Genre|count|\n",
            "+-------------+-----+\n",
            "|          Alt| 1066|\n",
            "|      117.017|    1|\n",
            "| Instrumental| 1529|\n",
            "|    Alt_Music| 1757|\n",
            "|        Metal|  355|\n",
            "|         Rock|  529|\n",
            "|        Blues|  439|\n",
            "|Acoustic/Folk| 1504|\n",
            "|          Pop|  370|\n",
            "|      Country| 3514|\n",
            "|       HipHop| 1121|\n",
            "|        Indie|  836|\n",
            "+-------------+-----+\n",
            "\n"
          ]
        }
      ],
      "source": [
        "#d\n",
        "\n",
        "#group by the Genre(category) and .counts to get how many occurences per this category\n",
        "Category = sdf1.groupBy('Genre').count()\n",
        "Category.show()\n"
      ]
    },
    {
      "cell_type": "code",
      "execution_count": 72,
      "metadata": {
        "colab": {
          "base_uri": "https://localhost:8080/"
        },
        "id": "R9Mhy-mioO6i",
        "outputId": "3463539b-04e3-4e31-b59f-34737f6f4535"
      },
      "outputs": [
        {
          "name": "stdout",
          "output_type": "stream",
          "text": [
            "+------------------+------------------+\n",
            "|       Artist Name|count(Artist Name)|\n",
            "+------------------+------------------+\n",
            "|   Backstreet Boys|                62|\n",
            "|    Britney Spears|                48|\n",
            "|          Westlife|                45|\n",
            "|The Rolling Stones|                30|\n",
            "|                U2|                27|\n",
            "+------------------+------------------+\n",
            "\n"
          ]
        }
      ],
      "source": [
        "#e\n",
        "\n",
        "from pyspark.sql.functions import desc\n",
        "\n",
        "\n",
        "#displaying the artists with the most songs for example from the results Britney spears has 52 songs\n",
        "#so we group ny the Artist Name and the agg.count to count how many times it occured the we sort \n",
        "#descendingly to take the top 5 limit\n",
        "\n",
        "TopArtists = sdf1.groupby(['Artist Name'])\\\n",
        ".agg({\"Artist Name\": \"count\"})\\\n",
        ".sort(\"count(Artist Name)\", ascending=False)\\\n",
        ".limit(5).show()\n"
      ]
    },
    {
      "cell_type": "code",
      "execution_count": 73,
      "metadata": {
        "colab": {
          "base_uri": "https://localhost:8080/"
        },
        "id": "wU5Nd6wsoO1w",
        "outputId": "54db8543-547b-484c-d7df-da698ac3339f"
      },
      "outputs": [
        {
          "name": "stdout",
          "output_type": "stream",
          "text": [
            "+--------------------+--------------------+\n",
            "|         Artist Name|          Track Name|\n",
            "+--------------------+--------------------+\n",
            "|      Olivia Rodrigo|            good 4 u|\n",
            "|            Doja Cat|Kiss Me More (fea...|\n",
            "|The Kid LAROI, Ju...|STAY (with Justin...|\n",
            "|     Los Legendarios|                Fiel|\n",
            "|Justin Bieber, Da...|Peaches (feat. Da...|\n",
            "|                 BTS| Permission to Dance|\n",
            "|      Rauw Alejandro|          Todo De Ti|\n",
            "|      Olivia Rodrigo|             deja vu|\n",
            "|               Riton|Friday (feat. Muf...|\n",
            "|          The Weeknd|Save Your Tears (...|\n",
            "+--------------------+--------------------+\n",
            "\n"
          ]
        }
      ],
      "source": [
        "#F\n",
        "\n",
        "#ordering the dataframe by Popularity then taking the 1St 10 songs \n",
        "Top_10_Songs = sdf1.orderBy(desc('Popularity')).limit(10)\n",
        "#selecting just the 'Artist Name' and the 'Track Name'from it\n",
        "Top_10_Songs.select('Artist Name','Track Name').show()\n",
        "\n",
        "\n",
        "#Top_10_Songs.select('Artist Name','Track Name','Popularity').show()\n"
      ]
    },
    {
      "cell_type": "code",
      "execution_count": 74,
      "metadata": {
        "colab": {
          "base_uri": "https://localhost:8080/"
        },
        "id": "_nGszYq1oOrm",
        "outputId": "d2fd4415-a01f-4104-ba2c-a8ee41bb4442"
      },
      "outputs": [
        {
          "name": "stdout",
          "output_type": "stream",
          "text": [
            "+--------------------+---------------+\n",
            "|          Track Name|    Artist Name|\n",
            "+--------------------+---------------+\n",
            "|      Gucci Umbrella|Whookilledkenny|\n",
            "|Divine Gosa - Swi...|      Radioclit|\n",
            "|           kawamurra|        sunflwr|\n",
            "|  Dancing in My Room|       347aidan|\n",
            "|    OG Bobby Johnson|           QUE.|\n",
            "+--------------------+---------------+\n",
            "\n"
          ]
        }
      ],
      "source": [
        "#g\n",
        "\n",
        "#just same as F but here with column danceability instead of popularity\n",
        "party = sdf1.orderBy(desc('danceability')).limit(5)\n",
        "party.select('Track Name', 'Artist Name').show()\n",
        "\n",
        "#party.select('Artist Name','Track Name','danceability').show()\n",
        "\n"
      ]
    }
  ],
  "metadata": {
    "colab": {
      "provenance": []
    },
    "kernelspec": {
      "display_name": "Python 3",
      "name": "python3"
    },
    "language_info": {
      "name": "python"
    }
  },
  "nbformat": 4,
  "nbformat_minor": 0
}
