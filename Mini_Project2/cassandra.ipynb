{
 "cells": [
  {
   "cell_type": "code",
   "execution_count": 218,
   "metadata": {},
   "outputs": [],
   "source": [
    "import pandas as pd\n",
    "\n",
    "#a)\n",
    "\n",
    "df = pd.read_csv('taxi_trip_data.csv',encoding='unicode_escape')\n",
    "\n",
    "df = df.iloc[:15000]\n",
    "\n",
    "df = df.drop(columns=['store_and_fwd_flag', 'rate_code', 'total_amount'])\n",
    "\n",
    "df.to_csv('taxitripdatanew.csv', index=False)\n",
    "\n",
    "df2 = pd.read_csv('taxitripdatanew.csv',encoding='unicode_escape')\n",
    "df3=pd.read_csv('taxi_zone_geo.csv',encoding='unicode_escape')\n",
    "#b)\n",
    "\n",
    "\n",
    "essentials= ['fare_amount', 'extra', 'mta_tax', 'tip_amount', 'tolls_amount', 'imp_surcharge', 'payment_type', 'tip_amount'  ,'pickup_datetime', 'dropoff_datetime']\n",
    "df2 = df2.dropna(subset=essentials)\n"
   ]
  },
  {
   "cell_type": "code",
   "execution_count": 5,
   "metadata": {},
   "outputs": [],
   "source": [
    "from cassandra.cluster import Cluster\n",
    "from cassandra.auth import PlainTextAuthProvider\n",
    "import csv\n",
    "from datetime import datetime\n",
    "import string\n",
    "cloud_config= {\n",
    "  'secure_connect_bundle': 'C:/Users/Ace/OneDrive/Desktop/GIU/Semester 6/Big Data/secure-connect-mydb.zip'\n",
    "}\n",
    "auth_provider = PlainTextAuthProvider('NMCBhlSFospdgDTGgAySwzGO', 'gyJE7tQ-QQKK75AIL5PzPjEpFKuYB5ep3wRlE_N7Zo,.wTRG,0rCckmUxjsAJRQQv+X2eE3Y1pT_HZj,R.46enjqkofmGZq7516vJY+9wmuJa7.mlqf1YmjZ3fEl.Mns')\n",
    "cluster = Cluster(cloud=cloud_config, auth_provider=auth_provider)\n",
    "session = cluster.connect()\n",
    "\n",
    "session.set_keyspace('mykeyspace') # replace <<KEYSPACENAME>> with the name of the keyspace you created in DataStax\n",
    "row = cluster.metadata.keyspaces['mykeyspace']\n",
    "#c)\n",
    "session.execute(\"\"\"\n",
    "     CREATE TABLE IF NOT EXISTS mykeyspace.Trip  (\n",
    "         vendor_id INT,\n",
    "         pickup_datetime TIMESTAMP,\n",
    "         dropoff_datetime TIMESTAMP,\n",
    "         passenger_count INT,\n",
    "         trip_distance FLOAT,\n",
    "         payment_type TEXT,\n",
    "         fare_amount FLOAT,\n",
    "         extra FLOAT,\n",
    "         mta_tax FLOAT ,\n",
    "         tip_amount FLOAT,\n",
    "         tolls_amount FLOAT,\n",
    "         imp_surcharge FLOAT,\n",
    "         pickup_location_id INT ,\n",
    "         dropoff_location_id INT ,\n",
    "         duration INT,\n",
    "         trip_cost FLOAT,\n",
    "         type_of_day TEXT,\n",
    "         PRIMARY KEY (pickup_location_id, dropoff_location_id)\n",
    "  \t);\n",
    " \"\"\")\n"
   ]
  },
  {
   "cell_type": "code",
   "execution_count": 8,
   "metadata": {},
   "outputs": [],
   "source": [
    "df = pd.read_csv('taxitripdatanew.csv', encoding=\"ISO-8859-1\")\n",
    "for x in range(0, 15000):\n",
    "    session.execute(\"\"\"\n",
    "     INSERT INTO mykeyspace.Trip (\n",
    "          vendor_id,\n",
    "          pickup_datetime,\n",
    "          dropoff_datetime,\n",
    "          passenger_count,\n",
    "          trip_distance,\n",
    "          payment_type,\n",
    "          fare_amount,\n",
    "          extra,\n",
    "          mta_tax,\n",
    "          tip_amount,\n",
    "          tolls_amount,\n",
    "          imp_surcharge,\n",
    "          pickup_location_id,\n",
    "          dropoff_location_id\n",
    "     ) VALUES (\n",
    "          %s, %s, %s, %s, %s, %s, %s, %s, %s, %s,\n",
    "          %s, %s, %s, %s\n",
    "     );\"\"\",\n",
    "     (\n",
    "          int(df.iloc[x].vendor_id),\n",
    "          str(df.iloc[x].pickup_datetime),\n",
    "          str(df.iloc[x].dropoff_datetime),\n",
    "          int(df.iloc[x].passenger_count),\n",
    "          float(df.iloc[x].trip_distance),\n",
    "          str(df.iloc[x].payment_type),\n",
    "          float(df.iloc[x].fare_amount),\n",
    "          float(df.iloc[x].extra),\n",
    "          float(df.iloc[x].mta_tax),\n",
    "          float(df.iloc[x].tip_amount),\n",
    "          float(df.iloc[x].tolls_amount),\n",
    "          float(df.iloc[x].imp_surcharge),\n",
    "          int(df.iloc[x].pickup_location_id),\n",
    "          int(df.iloc[x].dropoff_location_id)\n",
    "))"
   ]
  },
  {
   "cell_type": "code",
   "execution_count": 219,
   "metadata": {},
   "outputs": [],
   "source": [
    "#D)\n",
    "\n",
    "rows = session.execute('SELECT * FROM Trip')\n",
    "for row in rows:\n",
    "    pickup_datetime_str = row.pickup_datetime\n",
    "    dropoff_datetime_str = row.dropoff_datetime\n",
    "\n",
    "    # Parse strings into datetime objects\n",
    "    pickup_datetime = datetime.strptime(pickup_datetime_str, '%Y-%m-%d %H:%M:%S')\n",
    "    dropoff_datetime = datetime.strptime(dropoff_datetime_str, '%Y-%m-%d %H:%M:%S')\n",
    "\n",
    "    # Calculate trip duration\n",
    "    trip_duration = (dropoff_datetime - pickup_datetime).total_seconds()\n",
    "    \n",
    "    # Update trip_duration in Cassandra\n",
    "    session.execute(\"UPDATE Trip SET trip_duration = %s WHERE pickup_location_id = %s AND dropoff_location_id = %s\",\n",
    "                    (int(trip_duration), row.pickup_location_id, row.dropoff_location_id))\n"
   ]
  },
  {
   "cell_type": "code",
   "execution_count": 118,
   "metadata": {},
   "outputs": [],
   "source": [
    "#E)\n",
    "#session.execute(\"alter table mykeyspace.Trip add total_cost float;\")\n",
    "rows = session.execute('SELECT * FROM Trip')\n",
    "count=0.0\n",
    "for i in rows:\n",
    "  count = i.fare_amount + i.extra + i.mta_tax + i.tip_amount + i.tolls_amount + i.imp_surcharge\n",
    "  session.execute(\"UPDATE mykeyspace.Trip SET total_cost = %s WHERE pickup_location_id= %s AND dropoff_location_id = %s\",(count,i.pickup_location_id,i.dropoff_location_id))\n",
    "  count = 0.0"
   ]
  },
  {
   "cell_type": "code",
   "execution_count": 222,
   "metadata": {},
   "outputs": [
    {
     "name": "stdout",
     "output_type": "stream",
     "text": [
      "Count:  1  avg  2.414156436920166\n",
      "Count:  2  avg  2.4003334045410156\n",
      "Count:  3  avg  2.1173417568206787\n",
      "Count:  4  avg  4.218235492706299\n",
      "Count:  5  avg  2.8640875816345215\n",
      "Count:  6  avg  1.8402061462402344\n"
     ]
    }
   ],
   "source": [
    "#G)\n",
    "# Execute the query to calculate average tip amount per passenger count\n",
    "rows = session.execute(\"SELECT passenger_count, AVG(tip_amount) AS avg_tip_amount FROM Trip WHERE passenger_count IN (1, 2, 3, 4, 5, 6) GROUP BY passenger_count\")\n",
    "\n",
    "# Print the average tip amounts for each passenger count\n",
    "for row in rows:\n",
    "   print(\"Count:\", row.passenger_count, \"Average Tip Amount:\", row.avg_tip_amount)\n"
   ]
  },
  {
   "cell_type": "code",
   "execution_count": 346,
   "metadata": {},
   "outputs": [
    {
     "name": "stdout",
     "output_type": "stream",
     "text": [
      "0\n",
      "Common Payment_Type in Morning is: 1 with count of: 553\n",
      "Common Payment_Type in Evening is: 1 with count of: 125\n",
      "Common Payment_Type in AfterNoon is: 1 with count of: 609\n",
      "Common Payment_Type in Night is: 1 with count of: 0\n"
     ]
    }
   ],
   "source": [
    "#F)\n",
    "M = datetime.strptime('06:00:00', '%H:%M:%S').time().strftime('%H:%M:%S')\n",
    "A = datetime.strptime('12:00:00', '%H:%M:%S').time().strftime('%H:%M:%S')\n",
    "E = datetime.strptime('18:00:00', '%H:%M:%S').time().strftime('%H:%M:%S')\n",
    "Morning_Time=datetime.strptime(M,'%H:%M:%S').hour\n",
    "AfterNoon_Time=datetime.strptime(A,'%H:%M:%S').hour\n",
    "Evening_Time=datetime.strptime(E,'%H:%M:%S').hour\n",
    "\n",
    "# Define the time periods\n",
    "time_periods = [\"Morning\", \"Afternoon\", \"Evening\", \"Night\"]\n",
    "\n",
    "# Query the table for each time period\n",
    "for period in time_periods:\n",
    "    rows = session.execute(\n",
    "        \"SELECT payment_type, COUNT(*) AS count FROM Trip WHERE daytime = %s AND payment_type IS NOT NULL GROUP BY payment_type\",\n",
    "        (period,)\n",
    "    )\n",
    "    \n",
    "    # Find the most common payment type\n",
    "    max_count = 0\n",
    "    common_payment_type = None\n",
    "    for row in rows:\n",
    "        if row.count > max_count:\n",
    "            max_count = row.count\n",
    "            common_payment_type = row.payment_type\n",
    "    \n",
    "    # Print the result\n",
    "    print(\"Common Payment_Type in\", period, \"is:\", common_payment_type, \"with count of:\", max_count)"
   ]
  },
  {
   "cell_type": "code",
   "execution_count": 224,
   "metadata": {},
   "outputs": [
    {
     "data": {
      "text/plain": [
       "<cassandra.cluster.ResultSet at 0x29f78f9cd90>"
      ]
     },
     "execution_count": 224,
     "metadata": {},
     "output_type": "execute_result"
    }
   ],
   "source": [
    "#H)\n",
    "session.execute(\"\"\"\n",
    "    CREATE TABLE IF NOT EXISTS mykeyspace.Geo  (\n",
    "        zone_id INT,\n",
    "        zone_name TEXT,\n",
    "        PRIMARY KEY (zone_id)\n",
    "    );\n",
    "\"\"\")\n",
    "df2 = pd.read_csv('taxi_zone_geo.csv', encoding=\"ISO-8859-1\")\n",
    "\n",
    "for x in range(0,len(df2)):\n",
    "    session.execute(\"\"\"\n",
    "     INSERT INTO mykeyspace.Geo (\n",
    "          zone_id,\n",
    "          zone_name\n",
    "     ) VALUES (\n",
    "          %s, %s\n",
    "     );\"\"\",\n",
    "     (\n",
    "          int(df2.iloc[x].zone_id),\n",
    "          str(df2.iloc[x].zone_name),\n",
    "))\n"
   ]
  },
  {
   "cell_type": "code",
   "execution_count": 338,
   "metadata": {},
   "outputs": [
    {
     "name": "stdout",
     "output_type": "stream",
     "text": [
      "The first best location to pick up passengers is: Springfield Gardens South with avg fares of: 150.0\n",
      "The second best location to pick up passengers is: Riverdale/North Riverdale/Fieldston with avg fares of: 79.0\n",
      "The third best location to pick up passengers is: East New York/Pennsylvania Avenue with avg fares of: 66.5\n",
      "The fourth best location to pick up passengers is: Coney Island with avg fares of: 61.0\n",
      "The fifth best location to pick up passengers is: Saint Albans with avg fares of: 58.0\n"
     ]
    }
   ],
   "source": [
    "# Retrieve the top locations with the highest average fares\n",
    "rows = session.execute(\"\"\"\n",
    "   SELECT Geo.zone_name, AVG(fare_amount) AS avg_fare\n",
    "   FROM Trip\n",
    "   JOIN Geo ON Geo.zone_id = Trip.pickup_location_id\n",
    "   GROUP BY Geo.zone_id\n",
    "   ORDER BY avg_fare DESC\n",
    "   LIMIT 5\n",
    "\"\"\")\n",
    "\n",
    "# Print the top locations and their average fares\n",
    "ranking = [\"first\", \"second\", \"third\", \"fourth\", \"fifth\"]\n",
    "for i, row in enumerate(rows):\n",
    "   print(\"The\", ranking[i], \"best location to pick up passengers is:\", row.zone_name, \"with avg fares of:\", row.avg_fare)\n"
   ]
  }
 ],
 "metadata": {
  "kernelspec": {
   "display_name": "Python 3",
   "language": "python",
   "name": "python3"
  },
  "language_info": {
   "codemirror_mode": {
    "name": "ipython",
    "version": 3
   },
   "file_extension": ".py",
   "mimetype": "text/x-python",
   "name": "python",
   "nbconvert_exporter": "python",
   "pygments_lexer": "ipython3",
   "version": "3.11.1"
  },
  "orig_nbformat": 4
 },
 "nbformat": 4,
 "nbformat_minor": 2
}
