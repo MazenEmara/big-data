{
  "cells": [
    {
      "cell_type": "code",
      "execution_count": null,
      "metadata": {
        "colab": {
          "base_uri": "https://localhost:8080/"
        },
        "id": "KpPKpA0l0Jyg",
        "outputId": "db4f515f-ad8c-4714-db67-dd326db4a403"
      },
      "outputs": [],
      "source": [
        "# Installing required packages\n",
        "!pip install pyspark\n",
        "!pip install findspark"
      ]
    },
    {
      "cell_type": "code",
      "execution_count": 79,
      "metadata": {
        "id": "aJJI6trK0mLN"
      },
      "outputs": [],
      "source": [
        "from pyspark import SparkContext, SparkConf\n",
        "from pyspark.sql import SparkSession\n",
        "import pandas as pd"
      ]
    },
    {
      "cell_type": "code",
      "execution_count": 80,
      "metadata": {
        "id": "UVi-2BaMzhrX"
      },
      "outputs": [],
      "source": [
        "df = pd.read_csv(\"/content/music_streaming.csv\")"
      ]
    },
    {
      "cell_type": "code",
      "execution_count": null,
      "metadata": {
        "id": "SOK-DwCh0ho7"
      },
      "outputs": [],
      "source": [
        "# Creating a spark context class\n",
        "sc = SparkContext()\n",
        "\n",
        "# Creating a spark session\n",
        "spark = SparkSession \\\n",
        "    .builder \\\n",
        "    .appName(\"music streaming\") \\\n",
        "    .config(\"spark.some.config.option\", \"some-value\") \\\n",
        "    .getOrCreate()"
      ]
    },
    {
      "cell_type": "code",
      "execution_count": 81,
      "metadata": {
        "id": "PEoIEkpe0qBg"
      },
      "outputs": [],
      "source": [
        "import findspark\n",
        "findspark.init()"
      ]
    },
    {
      "cell_type": "code",
      "execution_count": 82,
      "metadata": {
        "colab": {
          "base_uri": "https://localhost:8080/",
          "height": 218
        },
        "id": "fGQWUPQ70uLF",
        "outputId": "d7e914e7-bcef-4514-c255-dcf213265a9d"
      },
      "outputs": [
        {
          "data": {
            "text/html": [
              "\n",
              "            <div>\n",
              "                <p><b>SparkSession - in-memory</b></p>\n",
              "                \n",
              "        <div>\n",
              "            <p><b>SparkContext</b></p>\n",
              "\n",
              "            <p><a href=\"http://1ba18e157097:4040\">Spark UI</a></p>\n",
              "\n",
              "            <dl>\n",
              "              <dt>Version</dt>\n",
              "                <dd><code>v3.4.0</code></dd>\n",
              "              <dt>Master</dt>\n",
              "                <dd><code>local[*]</code></dd>\n",
              "              <dt>AppName</dt>\n",
              "                <dd><code>pyspark-shell</code></dd>\n",
              "            </dl>\n",
              "        </div>\n",
              "        \n",
              "            </div>\n",
              "        "
            ],
            "text/plain": [
              "<pyspark.sql.session.SparkSession at 0x7f1b877780d0>"
            ]
          },
          "execution_count": 82,
          "metadata": {},
          "output_type": "execute_result"
        }
      ],
      "source": [
        "spark"
      ]
    },
    {
      "cell_type": "code",
      "execution_count": 83,
      "metadata": {
        "colab": {
          "base_uri": "https://localhost:8080/"
        },
        "id": "wOO4BfnVA2n1",
        "outputId": "1d9292c3-3b2c-451c-e832-b68d151365fb"
      },
      "outputs": [
        {
          "name": "stdout",
          "output_type": "stream",
          "text": [
            "+-----------+----------+----------+------------+------+----+--------+----+-----------+------------+----------------+--------+-------+-----+------------------+--------------+-----+\n",
            "|Artist Name|Track Name|Popularity|danceability|energy| key|loudness|mode|speechiness|acousticness|instrumentalness|liveness|valence|tempo|duration_in min/ms|time_signature|Genre|\n",
            "+-----------+----------+----------+------------+------+----+--------+----+-----------+------------+----------------+--------+-------+-----+------------------+--------------+-----+\n",
            "|          0|         0|       394|           0|     0|1743|       0|   0|          0|           0|            3587|       0|      0|    0|                 0|             0|    0|\n",
            "+-----------+----------+----------+------------+------+----+--------+----+-----------+------------+----------------+--------+-------+-----+------------------+--------------+-----+\n",
            "\n"
          ]
        }
      ],
      "source": [
        "#data cleaning \n",
        "\n",
        "# handling invalid rows and Null Values this is provided by spark\n",
        "sdf=spark.read.option(\"header\",True).option(\"mode\",'DROPMALFORMED').csv('music_streaming.csv')\n",
        "\n",
        "#showing missing values in all columns\n",
        "from pyspark.sql.functions import col,isnan, when, count\n",
        "sdf.select([count(when(isnan(c) | col(c).isNull(), c)).alias(c) for c in sdf.columns]\n",
        "   ).show()\n",
        "\n",
        "#the mising values didnt exceed  even 10% inn any of the 3 columns that have them so \n",
        "#we wont remove them just fill with 0\n",
        "sdf = sdf.fillna(0)\n",
        "\n",
        "\n",
        "# droping Duplicates\n",
        "sdf = sdf.dropDuplicates()  # Drop duplicate rows\n",
        "sdf=sdf.dropDuplicates(['Track Name'])"
      ]
    },
    {
      "cell_type": "code",
      "execution_count": 84,
      "metadata": {
        "colab": {
          "base_uri": "https://localhost:8080/"
        },
        "id": "rAyrInfZ_BMO",
        "outputId": "7c4518a3-aa6c-49f4-aa4d-4936b248eb77"
      },
      "outputs": [
        {
          "name": "stdout",
          "output_type": "stream",
          "text": [
            "+--------------------+--------------------+----------+------------+------+----+--------+----+-----------+------------+----------------+--------+-------+-------+--------------+-----+------------------+\n",
            "|         Artist Name|          Track Name|Popularity|danceability|energy| key|loudness|mode|speechiness|acousticness|instrumentalness|liveness|valence|  tempo|time_signature|Genre|   duration_in min|\n",
            "+--------------------+--------------------+----------+------------+------+----+--------+----+-----------+------------+----------------+--------+-------+-------+--------------+-----+------------------+\n",
            "|Shaarib Toshi, Ar...|\"Bandeya (feat. A...|        60|       0.465| 0.551|   7|   -6.58|   1|     0.0362|       0.619|        6.03E-06|   0.109|  0.415| 89.459|             4|    3|       3.077766667|\n",
            "|B Praak, Tanishk ...|\"Baras Baras (Fro...|        54|       0.493| 0.402|   2|  -6.629|   1|     0.0309|       0.619|            null|  0.0629|  0.431| 155.57|             4|    3|       3.335916667|\n",
            "|        Jon Bon Jovi|\"Blaze Of Glory -...|        66|        0.55| 0.618|   7|  -9.822|   1|     0.0307|      0.0564|        2.62E-05|  0.0937|  0.429|  78.61|             4|   10|5.5873333333333335|\n",
            "|Mithoon, Arijit S...|\"Chal Ghar Chalen...|        62|       0.285| 0.238|   5|  -9.623|   0|     0.0375|       0.663|        9.23E-06|  0.0793|  0.213|179.918|             4|    3|       5.677866667|\n",
            "|Abhijeet Srivasta...|\"Chashni (From \"\"...|        58|       0.756|  0.52|   6|  -8.642|   1|     0.0341|       0.495|            null|  0.0901|  0.684| 119.92|             4|    3|           4.43325|\n",
            "|      Olivia Rodrigo|\"Even When/The Be...|        73|       0.522| 0.336|null|  -8.577|   1|     0.0275|       0.714|            null|   0.109|  0.566| 90.646|             4|    9|           1.78135|\n",
            "|Jubin Nautiyal, G...|\"Hanjugam (From \"...|        55|       0.549| 0.665|   4|  -3.603|   1|     0.0288|       0.129|            null|  0.0886|  0.465| 94.959|             4|    3|            3.7571|\n",
            "|             Phoenix|\"Identical - From...|        57|       0.627| 0.761|   2|   -8.57|   1|      0.036|    0.000237|           0.839|   0.135|  0.672|128.005|             4|    6|           3.22105|\n",
            "|Asha Bhosle, Shai...|\"Jaane Do Naa - F...|        39|       0.566| 0.447|   3| -11.403|   1|     0.0349|       0.769|        6.19E-05|   0.208|  0.553|108.268|             4|    3|       5.055783333|\n",
            "|      Ellie Goulding|\"Love Me Like You...|        78|       0.262| 0.606|   8|  -6.646|   1|     0.0484|       0.247|            null|   0.125|  0.275|189.857|             4|    9|            4.2089|\n",
            "+--------------------+--------------------+----------+------------+------+----+--------+----+-----------+------------+----------------+--------+-------+-------+--------------+-----+------------------+\n",
            "only showing top 10 rows\n",
            "\n",
            "+--------------------+--------------------+----------+------------+------+----+--------+----+-----------+------------+----------------+--------+-------+-------+--------------+------------+------------------+\n",
            "|         Artist Name|          Track Name|Popularity|danceability|energy| key|loudness|mode|speechiness|acousticness|instrumentalness|liveness|valence|  tempo|time_signature|       Genre|   duration_in min|\n",
            "+--------------------+--------------------+----------+------------+------+----+--------+----+-----------+------------+----------------+--------+-------+-------+--------------+------------+------------------+\n",
            "|Shaarib Toshi, Ar...|\"Bandeya (feat. A...|        60|       0.465| 0.551|   7|   -6.58|   1|     0.0362|       0.619|        6.03E-06|   0.109|  0.415| 89.459|             4|         Pop|       3.077766667|\n",
            "|B Praak, Tanishk ...|\"Baras Baras (Fro...|        54|       0.493| 0.402|   2|  -6.629|   1|     0.0309|       0.619|            null|  0.0629|  0.431| 155.57|             4|         Pop|       3.335916667|\n",
            "|        Jon Bon Jovi|\"Blaze Of Glory -...|        66|        0.55| 0.618|   7|  -9.822|   1|     0.0307|      0.0564|        2.62E-05|  0.0937|  0.429|  78.61|             4|     Country|5.5873333333333335|\n",
            "|Mithoon, Arijit S...|\"Chal Ghar Chalen...|        62|       0.285| 0.238|   5|  -9.623|   0|     0.0375|       0.663|        9.23E-06|  0.0793|  0.213|179.918|             4|         Pop|       5.677866667|\n",
            "|Abhijeet Srivasta...|\"Chashni (From \"\"...|        58|       0.756|  0.52|   6|  -8.642|   1|     0.0341|       0.495|            null|  0.0901|  0.684| 119.92|             4|         Pop|           4.43325|\n",
            "|      Olivia Rodrigo|\"Even When/The Be...|        73|       0.522| 0.336|null|  -8.577|   1|     0.0275|       0.714|            null|   0.109|  0.566| 90.646|             4|Instrumental|           1.78135|\n",
            "|Jubin Nautiyal, G...|\"Hanjugam (From \"...|        55|       0.549| 0.665|   4|  -3.603|   1|     0.0288|       0.129|            null|  0.0886|  0.465| 94.959|             4|         Pop|            3.7571|\n",
            "|             Phoenix|\"Identical - From...|        57|       0.627| 0.761|   2|   -8.57|   1|      0.036|    0.000237|           0.839|   0.135|  0.672|128.005|             4|   Alt_Music|           3.22105|\n",
            "|Asha Bhosle, Shai...|\"Jaane Do Naa - F...|        39|       0.566| 0.447|   3| -11.403|   1|     0.0349|       0.769|        6.19E-05|   0.208|  0.553|108.268|             4|         Pop|       5.055783333|\n",
            "|      Ellie Goulding|\"Love Me Like You...|        78|       0.262| 0.606|   8|  -6.646|   1|     0.0484|       0.247|            null|   0.125|  0.275|189.857|             4|Instrumental|            4.2089|\n",
            "+--------------------+--------------------+----------+------------+------+----+--------+----+-----------+------------+----------------+--------+-------+-------+--------------+------------+------------------+\n",
            "only showing top 10 rows\n",
            "\n"
          ]
        }
      ],
      "source": [
        "# Import required libraries\n",
        "from pyspark.sql.types import StringType\n",
        "from pyspark.sql.functions import col, expr,when\n",
        "\n",
        "\n",
        "# Convert milliseconds to minutes\n",
        "#if i understand right the values of duration have some in mins and some in ms\n",
        "#So my logic is that if the value bigger than 1000 then definetly thats ms so i transform it to min else we leave it as it is\n",
        "\n",
        "#so here i put a new column that if the value of duration_in_min bigger than 100O we put the old value/60000 \n",
        "#otherwise we put the same old value\n",
        "sdf = sdf.withColumn(\"duration_in min\", when(col(\"duration_in min/ms\") > 10000, col(\"duration_in min/ms\") / 60000).otherwise(col(\"duration_in min/ms\")))\n",
        "\n",
        "#we drop the old column as we dont need it anymore\n",
        "sdf =sdf.drop('duration_in min/ms')\n",
        "sdf.show(10)\n",
        "\n",
        "# Classification\n",
        "\n",
        "#mapping = {   0: \"Rock\",1: \"Indie\",2: \"Alt\",3: \"Pop\",4: \"Metal\",5: \"HipHop\",6: \"Alt_Music\",7: \"Blues\",8: \"Acoustic/Folk\",9: \"Instrumental\",10: \"Country\"}\n",
        "\n",
        "sdf = sdf.withColumn(\"Genre\", when(col(\"Genre\") == 0, \"Rock\").when(col(\"Genre\") == 1, \"Indie\").when(col(\"Genre\") == 2, \"Alt\").when(col(\"Genre\") == 3, \"Pop\")\n",
        ".when(col(\"Genre\") == 4, \"Metal\").when(col(\"Genre\") == 5, \"HipHop\").when(col(\"Genre\") == 6, \"Alt_Music\").when(col(\"Genre\") == 7, \"Blues\").when(col(\"Genre\") == 8, \"Acoustic/Folk\")\n",
        ".when(col(\"Genre\") == 9, \"Instrumental\").when(col(\"Genre\") == 10, \"Country\").otherwise(col(\"Genre\")))\n",
        "\n",
        "\n",
        "\n",
        "sdf.show(10)\n",
        "\n",
        "#renaming the columns to be able to use them in queries\n",
        "sdf = sdf.withColumnRenamed('duration_in min', 'duration_in_min') \\\n",
        "       .withColumnRenamed('Track Name', 'Track_Name') \\\n",
        "       .withColumnRenamed('Artist Name', 'Artist_Name')"
      ]
    },
    {
      "cell_type": "code",
      "execution_count": 85,
      "metadata": {
        "id": "Aye9dD0D2cs-"
      },
      "outputs": [],
      "source": [
        "sdf.createOrReplaceTempView(\"music\")"
      ]
    },
    {
      "cell_type": "markdown",
      "metadata": {
        "id": "MIM8Q4Kv52za"
      },
      "source": [
        "deleting songs that are more than 5 minutes"
      ]
    },
    {
      "cell_type": "code",
      "execution_count": 86,
      "metadata": {
        "colab": {
          "base_uri": "https://localhost:8080/"
        },
        "id": "a4R1cn_7Rgct",
        "outputId": "8f659ebd-a5f4-4216-fa13-b6af5f075347"
      },
      "outputs": [
        {
          "name": "stdout",
          "output_type": "stream",
          "text": [
            "+--------------------+--------------------+----------+------------+------+----+--------+----+-----------+------------+----------------+--------+-------+------+--------------+------------+---------------+\n",
            "|         Artist_Name|          Track_Name|Popularity|danceability|energy| key|loudness|mode|speechiness|acousticness|instrumentalness|liveness|valence| tempo|time_signature|       Genre|duration_in_min|\n",
            "+--------------------+--------------------+----------+------------+------+----+--------+----+-----------+------------+----------------+--------+-------+------+--------------+------------+---------------+\n",
            "|Shaarib Toshi, Ar...|\"Bandeya (feat. A...|        60|       0.465| 0.551|   7|   -6.58|   1|     0.0362|       0.619|        6.03E-06|   0.109|  0.415|89.459|             4|         Pop|    3.077766667|\n",
            "|B Praak, Tanishk ...|\"Baras Baras (Fro...|        54|       0.493| 0.402|   2|  -6.629|   1|     0.0309|       0.619|            null|  0.0629|  0.431|155.57|             4|         Pop|    3.335916667|\n",
            "|Abhijeet Srivasta...|\"Chashni (From \"\"...|        58|       0.756|  0.52|   6|  -8.642|   1|     0.0341|       0.495|            null|  0.0901|  0.684|119.92|             4|         Pop|        4.43325|\n",
            "|      Olivia Rodrigo|\"Even When/The Be...|        73|       0.522| 0.336|null|  -8.577|   1|     0.0275|       0.714|            null|   0.109|  0.566|90.646|             4|Instrumental|        1.78135|\n",
            "|Jubin Nautiyal, G...|\"Hanjugam (From \"...|        55|       0.549| 0.665|   4|  -3.603|   1|     0.0288|       0.129|            null|  0.0886|  0.465|94.959|             4|         Pop|         3.7571|\n",
            "+--------------------+--------------------+----------+------------+------+----+--------+----+-----------+------------+----------------+--------+-------+------+--------------+------------+---------------+\n",
            "only showing top 5 rows\n",
            "\n"
          ]
        }
      ],
      "source": [
        "sdf = spark.sql(\"SELECT * FROM music WHERE duration_in_min <= 5.0\").show(5)"
      ]
    },
    {
      "cell_type": "markdown",
      "metadata": {
        "id": "Zu3yzKzu597w"
      },
      "source": [
        "Songs by J. Cole, Novo Amor and Anson Seabra"
      ]
    },
    {
      "cell_type": "code",
      "execution_count": 87,
      "metadata": {
        "colab": {
          "base_uri": "https://localhost:8080/"
        },
        "id": "NvV8aFptwqFz",
        "outputId": "f47c3418-60f9-4be1-e06b-503552c3fa13"
      },
      "outputs": [
        {
          "name": "stdout",
          "output_type": "stream",
          "text": [
            "+------------+--------------------+----------+------------+------+---+--------+----+-----------+------------+----------------+--------+-------+-------+--------------+------------+------------------+\n",
            "| Artist_Name|          Track_Name|Popularity|danceability|energy|key|loudness|mode|speechiness|acousticness|instrumentalness|liveness|valence|  tempo|time_signature|       Genre|   duration_in_min|\n",
            "+------------+--------------------+----------+------------+------+---+--------+----+-----------+------------+----------------+--------+-------+-------+--------------+------------+------------------+\n",
            "|     J. Cole|     9 5 . s o u t h|        84|       0.713| 0.793|  2|  -5.277|   1|      0.397|       0.271|            null|   0.727|  0.203| 71.724|             4|      HipHop|3.2824333333333335|\n",
            "|     J. Cole|           a m a r i|        86|       0.725| 0.713|  4|  -6.173|   0|      0.187|       0.127|            null|   0.617|  0.207| 65.988|             4|Instrumental|2.4736833333333332|\n",
            "|     J. Cole|a p p l y i n g ....|        82|       0.699| 0.759|  1|  -5.302|   1|      0.311|      0.0814|            null|   0.312|  0.404| 83.092|             4|      HipHop| 2.955616666666667|\n",
            "|     J. Cole|m y . l i f e (wi...|        86|       0.597| 0.587|  7|  -7.026|   0|      0.137|      0.0622|            null|   0.214| 0.0753|140.021|             4|Instrumental|            3.6467|\n",
            "|     J. Cole|p r i d e . i s ....|        85|       0.861| 0.656|  4|  -7.867|   0|      0.425|       0.104|            null|  0.0986|  0.331| 88.967|             4|      HipHop| 3.636833333333333|\n",
            "|   Novo Amor|            Birdcage|        54|       0.574| 0.407|  1|  -8.321|   1|     0.0243|       0.902|           0.637|  0.0927|  0.223| 82.047|             4|   Alt_Music|           3.37045|\n",
            "|Anson Seabra|It's Raining, It'...|        70|       0.598| 0.444|  2|  -8.683|   0|     0.0327|        0.68|        1.94E-05|   0.142|  0.286|113.919|             4|Instrumental|            3.0515|\n",
            "|Anson Seabra|           Magazines|        46|       0.775| 0.424|  5| -12.276|   1|     0.0675|       0.511|            null|   0.123|  0.191| 114.95|             4|Instrumental|            3.6675|\n",
            "|     J. Cole|   i n t e r l u d e|        81|        0.77| 0.574|  1|  -5.525|   1|      0.106|      0.0617|            null|   0.104|  0.104| 98.962|             3|      HipHop| 2.217033333333333|\n",
            "|     J. Cole|l e t . g o . m y...|        82|       0.583| 0.625|  1|  -8.011|   1|      0.277|       0.506|            null|   0.196|  0.516| 89.812|             4|      HipHop| 4.438183333333333|\n",
            "|     J. Cole|p u n c h i n ‚Äò...|        81|       0.769|  0.74| 11|  -6.579|   0|      0.378|       0.197|            null|   0.171|  0.692| 94.104|             4|      HipHop|1.8763166666666666|\n",
            "+------------+--------------------+----------+------------+------+---+--------+----+-----------+------------+----------------+--------+-------+-------+--------------+------------+------------------+\n",
            "\n"
          ]
        }
      ],
      "source": [
        "# Display songs by J. Cole, Novo Amor and Anson Seabra\n",
        "spark.sql(\"SELECT * from music WHERE Artist_Name = 'J. Cole' OR Artist_Name = 'Novo Amor' OR Artist_Name = 'Anson Seabra' \").show(14)"
      ]
    },
    {
      "cell_type": "markdown",
      "metadata": {
        "id": "4dMfzXkQ5RC1"
      },
      "source": [
        "Counting th Genre to see no of songs in every Genre as the category"
      ]
    },
    {
      "cell_type": "code",
      "execution_count": 88,
      "metadata": {
        "colab": {
          "base_uri": "https://localhost:8080/"
        },
        "id": "alYNNT69xkYg",
        "outputId": "c59ed678-be0c-427a-dc4c-bf45134465ca"
      },
      "outputs": [
        {
          "name": "stdout",
          "output_type": "stream",
          "text": [
            "+-------------+-----------+\n",
            "|        Genre|no_of_songs|\n",
            "+-------------+-----------+\n",
            "|      117.017|          1|\n",
            "|Acoustic/Folk|       1504|\n",
            "|          Alt|       1066|\n",
            "|    Alt_Music|       1757|\n",
            "|        Blues|        439|\n",
            "|      Country|       3514|\n",
            "|       HipHop|       1121|\n",
            "|        Indie|        836|\n",
            "| Instrumental|       1529|\n",
            "|        Metal|        355|\n",
            "|          Pop|        370|\n",
            "|         Rock|        529|\n",
            "+-------------+-----------+\n",
            "\n"
          ]
        }
      ],
      "source": [
        "#  How many songs are included in every category?\n",
        "\n",
        "spark.sql(\"SELECT Genre , COUNT (*) AS no_of_songs FROM music GROUP BY Genre ORDER BY Genre ASC\").show(12)"
      ]
    },
    {
      "cell_type": "markdown",
      "metadata": {
        "id": "LCy7zucg7jFw"
      },
      "source": [
        "Getting the average populatity for every of the songs to determine the hotest artists"
      ]
    },
    {
      "cell_type": "code",
      "execution_count": 89,
      "metadata": {
        "colab": {
          "base_uri": "https://localhost:8080/"
        },
        "id": "_SYhuHYH7Lrf",
        "outputId": "bcfd242a-88cb-47b6-e073-57cb08e2ad3d"
      },
      "outputs": [
        {
          "name": "stdout",
          "output_type": "stream",
          "text": [
            "+--------------------+-------------+\n",
            "|         Artist_Name|AvgPopularity|\n",
            "+--------------------+-------------+\n",
            "|            Måneskin|        100.0|\n",
            "|The Kid LAROI, Ju...|         97.0|\n",
            "|     Los Legendarios|         95.0|\n",
            "|Justin Bieber, Da...|         95.0|\n",
            "|          Nio Garcia|         93.0|\n",
            "|          Tion Wayne|         90.0|\n",
            "|        Bella Poarch|         90.0|\n",
            "|             Cardi B|         90.0|\n",
            "|    Dua Lipa, DaBaby|         90.0|\n",
            "|          The Weeknd|        89.25|\n",
            "+--------------------+-------------+\n",
            "only showing top 10 rows\n",
            "\n"
          ]
        }
      ],
      "source": [
        "spark.sql(\"SELECT Artist_Name, AVG(Popularity) AS AvgPopularity FROM music GROUP BY Artist_Name ORDER BY AVG(Popularity) DESC\").show(10)"
      ]
    },
    {
      "cell_type": "markdown",
      "metadata": {
        "id": "k19f-LZD3wYv"
      },
      "source": [
        "Getting top 10 billboard based on the songs popularity"
      ]
    },
    {
      "cell_type": "code",
      "execution_count": 90,
      "metadata": {
        "colab": {
          "base_uri": "https://localhost:8080/"
        },
        "id": "EOoAdVKj2DL3",
        "outputId": "879f0975-d848-4765-f309-bfd9747d2c77"
      },
      "outputs": [
        {
          "name": "stdout",
          "output_type": "stream",
          "text": [
            "+---+----------+--------------------+--------------------+\n",
            "|CNT|Popularity|         Artist_Name|          Track_Name|\n",
            "+---+----------+--------------------+--------------------+\n",
            "|  1|        99|      Olivia Rodrigo|            good 4 u|\n",
            "|  1|        98|            Doja Cat|Kiss Me More (fea...|\n",
            "|  1|        97|The Kid LAROI, Ju...|STAY (with Justin...|\n",
            "|  1|        95|     Los Legendarios|                Fiel|\n",
            "|  1|        95|Justin Bieber, Da...|Peaches (feat. Da...|\n",
            "|  1|        95|                 BTS| Permission to Dance|\n",
            "|  1|        95|      Rauw Alejandro|          Todo De Ti|\n",
            "|  1|        95|      Olivia Rodrigo|             deja vu|\n",
            "|  1|        94|               Riton|Friday (feat. Muf...|\n",
            "|  1|        94|          The Weeknd|Save Your Tears (...|\n",
            "+---+----------+--------------------+--------------------+\n",
            "only showing top 10 rows\n",
            "\n"
          ]
        }
      ],
      "source": [
        "spark.sql(\"SELECT COUNT(*) as CNT , Popularity , Artist_Name , Track_Name from music GROUP BY Popularity , Track_Name , Artist_Name ORDER BY Popularity DESC\").show(10)"
      ]
    },
    {
      "cell_type": "markdown",
      "metadata": {
        "id": "yGPfuIBgvWkE"
      },
      "source": [
        "Ranking the songs that could be played in a party based on the danceability as it is a party"
      ]
    },
    {
      "cell_type": "code",
      "execution_count": 91,
      "metadata": {
        "colab": {
          "base_uri": "https://localhost:8080/"
        },
        "id": "ivIqZo-_LAYa",
        "outputId": "dbb169c8-1512-46b4-c96a-fb53354a685f"
      },
      "outputs": [
        {
          "name": "stdout",
          "output_type": "stream",
          "text": [
            "+-----+------------+--------------------+\n",
            "|COUNT|danceability|          Track_Name|\n",
            "+-----+------------+--------------------+\n",
            "|    1|       0.989|      Gucci Umbrella|\n",
            "|    1|       0.982|Divine Gosa - Swi...|\n",
            "|    1|        0.98|           kawamurra|\n",
            "|    1|       0.979|  Dancing in My Room|\n",
            "|    1|       0.974|    OG Bobby Johnson|\n",
            "+-----+------------+--------------------+\n",
            "only showing top 5 rows\n",
            "\n"
          ]
        }
      ],
      "source": [
        "spark.sql(\"SELECT COUNT(*) as COUNT ,  danceability, Track_Name from music GROUP BY Track_Name , danceability ORDER BY danceability DESC\").show(5)"
      ]
    }
  ],
  "metadata": {
    "colab": {
      "provenance": []
    },
    "kernelspec": {
      "display_name": "Python 3",
      "name": "python3"
    },
    "language_info": {
      "name": "python"
    }
  },
  "nbformat": 4,
  "nbformat_minor": 0
}
